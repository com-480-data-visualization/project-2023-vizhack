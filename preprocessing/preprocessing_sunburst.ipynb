{
 "cells": [
  {
   "cell_type": "code",
   "execution_count": 1,
   "metadata": {},
   "outputs": [],
   "source": [
    "import pandas as pd"
   ]
  },
  {
   "cell_type": "code",
   "execution_count": 11,
   "metadata": {},
   "outputs": [
    {
     "data": {
      "text/html": [
       "<div>\n",
       "<style scoped>\n",
       "    .dataframe tbody tr th:only-of-type {\n",
       "        vertical-align: middle;\n",
       "    }\n",
       "\n",
       "    .dataframe tbody tr th {\n",
       "        vertical-align: top;\n",
       "    }\n",
       "\n",
       "    .dataframe thead th {\n",
       "        text-align: right;\n",
       "    }\n",
       "</style>\n",
       "<table border=\"1\" class=\"dataframe\">\n",
       "  <thead>\n",
       "    <tr style=\"text-align: right;\">\n",
       "      <th></th>\n",
       "      <th>location_name</th>\n",
       "      <th>sex_name</th>\n",
       "      <th>age_group_name</th>\n",
       "      <th>year_id</th>\n",
       "      <th>val</th>\n",
       "      <th>sub_super_region</th>\n",
       "      <th>super_region</th>\n",
       "    </tr>\n",
       "  </thead>\n",
       "  <tbody>\n",
       "    <tr>\n",
       "      <th>0</th>\n",
       "      <td>Global</td>\n",
       "      <td>Male</td>\n",
       "      <td>15+ years</td>\n",
       "      <td>1990</td>\n",
       "      <td>803101467.1</td>\n",
       "      <td>Global</td>\n",
       "      <td>Global</td>\n",
       "    </tr>\n",
       "    <tr>\n",
       "      <th>1</th>\n",
       "      <td>Global</td>\n",
       "      <td>Female</td>\n",
       "      <td>15+ years</td>\n",
       "      <td>1990</td>\n",
       "      <td>189148834.0</td>\n",
       "      <td>Global</td>\n",
       "      <td>Global</td>\n",
       "    </tr>\n",
       "    <tr>\n",
       "      <th>2</th>\n",
       "      <td>Global</td>\n",
       "      <td>Both</td>\n",
       "      <td>15+ years</td>\n",
       "      <td>1990</td>\n",
       "      <td>992250301.2</td>\n",
       "      <td>Global</td>\n",
       "      <td>Global</td>\n",
       "    </tr>\n",
       "    <tr>\n",
       "      <th>3</th>\n",
       "      <td>Global</td>\n",
       "      <td>Male</td>\n",
       "      <td>15+ years</td>\n",
       "      <td>1991</td>\n",
       "      <td>813897216.4</td>\n",
       "      <td>Global</td>\n",
       "      <td>Global</td>\n",
       "    </tr>\n",
       "    <tr>\n",
       "      <th>4</th>\n",
       "      <td>Global</td>\n",
       "      <td>Female</td>\n",
       "      <td>15+ years</td>\n",
       "      <td>1991</td>\n",
       "      <td>190537545.1</td>\n",
       "      <td>Global</td>\n",
       "      <td>Global</td>\n",
       "    </tr>\n",
       "  </tbody>\n",
       "</table>\n",
       "</div>"
      ],
      "text/plain": [
       "  location_name sex_name age_group_name  year_id          val  \\\n",
       "0        Global     Male      15+ years     1990  803101467.1   \n",
       "1        Global   Female      15+ years     1990  189148834.0   \n",
       "2        Global     Both      15+ years     1990  992250301.2   \n",
       "3        Global     Male      15+ years     1991  813897216.4   \n",
       "4        Global   Female      15+ years     1991  190537545.1   \n",
       "\n",
       "  sub_super_region super_region  \n",
       "0           Global       Global  \n",
       "1           Global       Global  \n",
       "2           Global       Global  \n",
       "3           Global       Global  \n",
       "4           Global       Global  "
      ]
     },
     "execution_count": 11,
     "metadata": {},
     "output_type": "execute_result"
    }
   ],
   "source": [
    "df = pd.read_csv('../data/initial_data/SMOKING_TOB_1990_2019_NUM_SMOKERS_updated.CSV')\n",
    "df.head()"
   ]
  },
  {
   "cell_type": "code",
   "execution_count": 14,
   "metadata": {},
   "outputs": [],
   "source": [
    "regions = ['East Asia','Central Sub-Saharan Africa','Eastern Sub-Saharan Africa', 'Central Asia',\n",
    " 'Tropical Latin America','Caribbean','High-income North America','Southern Latin America',\n",
    " 'South Africa', 'Central Europe','Southern Sub-Saharan Africa','Western Sub-Saharan Africa','Southeast Asia',\n",
    " 'Central Latin America','Western Europe','High-income Asia Pacific','Eastern Europe','Andean Latin America','South Asia']\n",
    "\n",
    "region = 'Oceania'\n",
    "\n",
    "# two values for change\n",
    "sex = 'Male' \n",
    "year = 1990\n",
    "\n",
    "df_smoking = df[df['age_group_name'] == '15+ years']\n",
    "df_smoking = df_smoking[df_smoking['year_id'] == year]\n",
    "df_smoking = df_smoking[df_smoking['sex_name'] == sex]\n",
    "# df_smoking = df_smoking[df_smoking['sub_super_region'] == region]\n",
    "df_smoking = df_smoking.rename(columns={'val': 'value'})\n",
    "df_smoking = df_smoking.rename(columns={'location_name': 'name'})\n",
    "df_subset = df_smoking[['name', 'value']]\n",
    "# save to file from which you should manually copy data to your main file\n",
    "df_subset.to_json('../data/sunburst_data/my_data.json', orient='records')\n"
   ]
  }
 ],
 "metadata": {
  "kernelspec": {
   "display_name": "dataViz",
   "language": "python",
   "name": "python3"
  },
  "language_info": {
   "codemirror_mode": {
    "name": "ipython",
    "version": 3
   },
   "file_extension": ".py",
   "mimetype": "text/x-python",
   "name": "python",
   "nbconvert_exporter": "python",
   "pygments_lexer": "ipython3",
   "version": "3.11.3"
  },
  "orig_nbformat": 4
 },
 "nbformat": 4,
 "nbformat_minor": 2
}
