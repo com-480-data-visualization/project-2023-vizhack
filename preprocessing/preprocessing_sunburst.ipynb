{
 "cells": [
  {
   "cell_type": "code",
   "execution_count": 5,
   "metadata": {},
   "outputs": [],
   "source": [
    "import pandas as pd\n",
    "import json"
   ]
  },
  {
   "cell_type": "code",
   "execution_count": 6,
   "metadata": {},
   "outputs": [
    {
     "data": {
      "text/html": [
       "<div>\n",
       "<style scoped>\n",
       "    .dataframe tbody tr th:only-of-type {\n",
       "        vertical-align: middle;\n",
       "    }\n",
       "\n",
       "    .dataframe tbody tr th {\n",
       "        vertical-align: top;\n",
       "    }\n",
       "\n",
       "    .dataframe thead th {\n",
       "        text-align: right;\n",
       "    }\n",
       "</style>\n",
       "<table border=\"1\" class=\"dataframe\">\n",
       "  <thead>\n",
       "    <tr style=\"text-align: right;\">\n",
       "      <th></th>\n",
       "      <th>location_name</th>\n",
       "      <th>sex_name</th>\n",
       "      <th>age_group_name</th>\n",
       "      <th>year_id</th>\n",
       "      <th>val</th>\n",
       "      <th>sub_super_region</th>\n",
       "      <th>super_region</th>\n",
       "    </tr>\n",
       "  </thead>\n",
       "  <tbody>\n",
       "    <tr>\n",
       "      <th>0</th>\n",
       "      <td>Global</td>\n",
       "      <td>Male</td>\n",
       "      <td>15+ years</td>\n",
       "      <td>1990</td>\n",
       "      <td>803101467.1</td>\n",
       "      <td>Global</td>\n",
       "      <td>Global</td>\n",
       "    </tr>\n",
       "    <tr>\n",
       "      <th>1</th>\n",
       "      <td>Global</td>\n",
       "      <td>Female</td>\n",
       "      <td>15+ years</td>\n",
       "      <td>1990</td>\n",
       "      <td>189148834.0</td>\n",
       "      <td>Global</td>\n",
       "      <td>Global</td>\n",
       "    </tr>\n",
       "    <tr>\n",
       "      <th>2</th>\n",
       "      <td>Global</td>\n",
       "      <td>Both</td>\n",
       "      <td>15+ years</td>\n",
       "      <td>1990</td>\n",
       "      <td>992250301.2</td>\n",
       "      <td>Global</td>\n",
       "      <td>Global</td>\n",
       "    </tr>\n",
       "    <tr>\n",
       "      <th>3</th>\n",
       "      <td>Global</td>\n",
       "      <td>Male</td>\n",
       "      <td>15+ years</td>\n",
       "      <td>1991</td>\n",
       "      <td>813897216.4</td>\n",
       "      <td>Global</td>\n",
       "      <td>Global</td>\n",
       "    </tr>\n",
       "    <tr>\n",
       "      <th>4</th>\n",
       "      <td>Global</td>\n",
       "      <td>Female</td>\n",
       "      <td>15+ years</td>\n",
       "      <td>1991</td>\n",
       "      <td>190537545.1</td>\n",
       "      <td>Global</td>\n",
       "      <td>Global</td>\n",
       "    </tr>\n",
       "  </tbody>\n",
       "</table>\n",
       "</div>"
      ],
      "text/plain": [
       "  location_name sex_name age_group_name  year_id          val  \\\n",
       "0        Global     Male      15+ years     1990  803101467.1   \n",
       "1        Global   Female      15+ years     1990  189148834.0   \n",
       "2        Global     Both      15+ years     1990  992250301.2   \n",
       "3        Global     Male      15+ years     1991  813897216.4   \n",
       "4        Global   Female      15+ years     1991  190537545.1   \n",
       "\n",
       "  sub_super_region super_region  \n",
       "0           Global       Global  \n",
       "1           Global       Global  \n",
       "2           Global       Global  \n",
       "3           Global       Global  \n",
       "4           Global       Global  "
      ]
     },
     "execution_count": 6,
     "metadata": {},
     "output_type": "execute_result"
    }
   ],
   "source": [
    "df = pd.read_csv('../data/initial_data/SMOKING_TOB_1990_2019_NUM_SMOKERS_updated.CSV')\n",
    "df.head()"
   ]
  },
  {
   "cell_type": "code",
   "execution_count": 7,
   "metadata": {},
   "outputs": [
    {
     "data": {
      "text/plain": [
       "8"
      ]
     },
     "execution_count": 7,
     "metadata": {},
     "output_type": "execute_result"
    }
   ],
   "source": [
    "super_regions = df['super_region'].unique()\n",
    "len(super_regions)"
   ]
  },
  {
   "cell_type": "code",
   "execution_count": 28,
   "metadata": {},
   "outputs": [],
   "source": [
    "# two values for change\n",
    "sex = 'Male' \n",
    "year = 1990\n",
    "\n",
    "sub_super_regions_arr = []\n",
    "super_regions_arr = []\n",
    "countries_arr = []\n",
    "sub_super_regions = []\n",
    "sub_super_region_dict ={}\n",
    "\n",
    "df_super_region = pd.DataFrame()\n",
    "df_sub_super_region = pd.DataFrame()\n",
    "for super_region in super_regions:\n",
    "    df = pd.read_csv('../data/initial_data/SMOKING_TOB_1990_2019_NUM_SMOKERS_updated.CSV')\n",
    "    df['val'] = df['val'].round(2)\n",
    "    df = df[df['age_group_name'] == '15+ years']\n",
    "    df = df[df['year_id'] == year]\n",
    "    df = df[df['sex_name'] == sex]\n",
    "    df_super_region = df[df['super_region'] != \"Global\"]\n",
    "    df_super_region = df[df['super_region'] == super_region]\n",
    "    df_super_region = df_super_region[df_super_region['sub_super_region'] != super_region]\n",
    "    sub_super_regions = df_super_region['sub_super_region'].unique()\n",
    "    sub_super_regions_arr = []\n",
    "    for sub_super_region in sub_super_regions:\n",
    "        df_sub_super_region = df_super_region[df_super_region['sub_super_region'] == sub_super_region]\n",
    "        df_sub_super_region = df_sub_super_region.rename(columns={'val': 'value'})\n",
    "        df_sub_super_region = df_sub_super_region.rename(columns={'location_name': 'name'})\n",
    "        df_sub_super_region = df_sub_super_region[['name', 'value']]\n",
    "        df_sub_super_region = df_sub_super_region[df_sub_super_region[\"name\"] != sub_super_region]\n",
    "        countries_arr = []\n",
    "        \n",
    "        for index, row in df_sub_super_region.iterrows():\n",
    "            obj_dict = row.to_dict()\n",
    "            countries_arr.append(obj_dict)\n",
    "\n",
    "        sub_super_region_dict = {\n",
    "            \"name\": sub_super_region,\n",
    "            \"value\": 1,\n",
    "            \"children\": countries_arr\n",
    "        }\n",
    "        sub_super_regions_arr.append(sub_super_region_dict)\n",
    "\n",
    "    super_region_dict = {\n",
    "        \"name\": super_region,\n",
    "        \"value\": 1,\n",
    "        \"children\": sub_super_regions_arr,\n",
    "    }\n",
    "    super_regions_arr.append(super_region_dict)\n",
    "\n",
    "global_dict = {\n",
    "    \"name\": \"Global\",\n",
    "    \"value\": 1,\n",
    "    \"children\": super_regions_arr\n",
    "}\n",
    "\n",
    "file_path = \"../data/sunburst_data/sunburst_\" + sex + '_' + str(year)+ \".json\"\n",
    "\n",
    "# Write data to JSON file\n",
    "with open(file_path, 'w') as file:\n",
    "    json.dump(global_dict, file)\n",
    "\n"
   ]
  },
  {
   "cell_type": "code",
   "execution_count": null,
   "metadata": {},
   "outputs": [],
   "source": []
  }
 ],
 "metadata": {
  "kernelspec": {
   "display_name": "dataViz",
   "language": "python",
   "name": "python3"
  },
  "language_info": {
   "codemirror_mode": {
    "name": "ipython",
    "version": 3
   },
   "file_extension": ".py",
   "mimetype": "text/x-python",
   "name": "python",
   "nbconvert_exporter": "python",
   "pygments_lexer": "ipython3",
   "version": "3.11.3"
  },
  "orig_nbformat": 4
 },
 "nbformat": 4,
 "nbformat_minor": 2
}
