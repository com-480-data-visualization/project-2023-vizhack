{
 "cells": [
  {
   "cell_type": "code",
   "execution_count": null,
   "metadata": {},
   "outputs": [],
   "source": [
    "import pandas as pd\n",
    "import plotly.express as pl\n"
   ]
  },
  {
   "cell_type": "code",
   "execution_count": null,
   "metadata": {},
   "outputs": [],
   "source": [
    "df_smoking = pd.read_csv(\"data/SMOKING_TOB_1990_2019_PREV.CSV\")\n",
    "df_smoking.head()"
   ]
  },
  {
   "cell_type": "code",
   "execution_count": null,
   "metadata": {},
   "outputs": [],
   "source": [
    "df_smoking = df_smoking.drop(columns=['measure_name'])\n",
    "df_smoking = df_smoking.drop(columns=['sex_id'])\n",
    "df_smoking = df_smoking.drop(columns=['age_group_id'])\n",
    "df_smoking = df_smoking.drop(columns=['location_id'])\n",
    "df_smoking = df_smoking.drop(columns=['upper'])\n",
    "df_smoking = df_smoking.drop(columns=['lower'])\n",
    "df_smoking.head()"
   ]
  },
  {
   "cell_type": "code",
   "execution_count": null,
   "metadata": {},
   "outputs": [],
   "source": [
    "central_europe = ['Romania', 'Poland', 'Serbia', 'Slovenia', 'Albania', 'Bosnia and Herzegovina',\n",
    "                  'Bulgaria', 'Croatia', 'Chez Republic', 'Czechia', 'Hungary', 'Macedonia', 'North Macedonia',\n",
    "                   'Slovakia', 'Montenegro', 'Central Europe']\n",
    "eastern_europe = ['Eastern Europe', 'Belarus', 'Estonia', 'Latvia', 'Lithuania',\n",
    " 'Republic of Moldova', 'Russian Federation', 'Ukraine']\n",
    "central_asia = ['Central Asia', 'Armenia', 'Azerbaijan', 'Georgia', 'Kazakhstan', 'Kyrgyzstan', 'Mongolia',\n",
    " 'Tajikistan', 'Turkmenistan', 'Uzbekistan']\n",
    "ce_ee_ca = ['Central Asia', 'Central Europe', 'Eastern Europe', 'Central Europe, Eastern Europe, and Central Asia']\n",
    "\n",
    "# assign sub super region\n",
    "df_smoking.loc[df_smoking['location_name'].isin(central_asia), 'sub_super_region'] = \"Central Asia\"\n",
    "df_smoking.loc[df_smoking['location_name'].isin(central_europe), 'sub_super_region'] = \"Central Europe\"\n",
    "df_smoking.loc[df_smoking['location_name'].isin(eastern_europe), 'sub_super_region'] = \"Eastern Europe\"\n",
    "df_smoking.loc[df_smoking['location_name'].isin(['Central Europe, Eastern Europe, and Central Asia']), 'sub_super_region'] = \"Central Europe, Eastern Europe, and Central Asia\"\n",
    "# super region \n",
    "df_smoking.loc[df_smoking['sub_super_region'].isin(ce_ee_ca), 'super_region'] = \"Central Europe, Eastern Europe, and Central Asia\"\n",
    "\n"
   ]
  },
  {
   "cell_type": "code",
   "execution_count": null,
   "metadata": {},
   "outputs": [],
   "source": [
    "western_europe = ['Western Europe', 'Andorra', 'Austria', 'Belgium', 'Cyprus', 'Denmark',\n",
    " 'Finland', 'France', 'Germany', 'Greece', 'Iceland', 'Ireland', 'Israel',\n",
    " 'Italy', 'Luxembourg', 'Malta', 'Monaco', 'Netherlands', 'Norway', 'Portugal', 'Spain',\n",
    " 'Sweden', 'Switzerland', 'United Kingdom', 'Greenland', 'San Marino']\n",
    "southern_l_a = ['Southern Latin America','Argentina', 'Chile', 'Uruguay']\n",
    "h_i_north_america = ['High-income North America', 'Canada', 'United States of America']\n",
    "australasia = ['Australasia', 'Australia', 'New Zealand']\n",
    "h_i_asia__pacific = ['High-income Asia Pacific', 'Brunei Darussalam', 'Japan', 'Republic of Korea', 'Singapore']\n",
    "high_income = ['Western Europe', 'Southern Latin America', 'High-income North America', 'Australasia', 'High-income Asia Pacific', 'High-income']\n",
    "\n",
    "df_smoking.loc[df_smoking['location_name'].isin(western_europe), 'sub_super_region'] = \"Western Europe\"\n",
    "df_smoking.loc[df_smoking['location_name'].isin(southern_l_a), 'sub_super_region'] = \"Southern Latin America\"\n",
    "df_smoking.loc[df_smoking['location_name'].isin(h_i_north_america), 'sub_super_region'] = \"High-income North America\"\n",
    "df_smoking.loc[df_smoking['location_name'].isin(australasia), 'sub_super_region'] = \"Australasia\"\n",
    "df_smoking.loc[df_smoking['location_name'].isin(h_i_asia__pacific), 'sub_super_region'] = \"High-income Asia Pacific\"\n",
    "df_smoking.loc[df_smoking['location_name'].isin(['High-income']), 'sub_super_region'] = \"High-income\"\n",
    "df_smoking.loc[df_smoking['sub_super_region'].isin(high_income), 'super_region'] = \"High-income\"\n",
    "\n"
   ]
  },
  {
   "cell_type": "code",
   "execution_count": null,
   "metadata": {},
   "outputs": [],
   "source": [
    "caribbean = ['Caribbean', 'Antigua and Barbuda', 'Bahamas', 'Barbados', 'Belize', 'Cuba', 'Dominica',\n",
    " 'Dominican Republic', 'Grenada', 'Guyana', 'Haiti', 'Jamaica', 'Saint Lucia',\n",
    " 'Saint Vincent and the Grenadines', 'Suriname', 'Trinidad and Tobago']\n",
    "andean_l_a = ['Andean Latin America', 'Bolivia (Plurinational State of)', 'Ecuador', 'Peru', 'Bermuda']\n",
    "central_l_a = ['Central Latin America', 'Colombia', 'Costa Rica', 'El Salvador', 'Guatemala', 'Honduras', 'Mexico',\n",
    "                 'Nicaragua', 'Panama', 'Venezuela (Bolivarian Republic of)', 'Puerto Rico', 'Saint Kitts and Nevis', 'United States Virgin Islands']\n",
    "tropical_l_a = ['Tropical Latin America', 'Brazil', 'Paraguay', 'American Samoa']\n",
    "\n",
    "latin_america_caribbean = ['Latin America and Caribbean', 'Caribbean', 'Andean Latin America', 'Central Latin America', 'Tropical Latin America']\n",
    "\n",
    "df_smoking.loc[df_smoking['location_name'].isin(caribbean), 'sub_super_region'] = \"Caribbean\"\n",
    "df_smoking.loc[df_smoking['location_name'].isin(andean_l_a), 'sub_super_region'] = \"Andean Latin America\"\n",
    "df_smoking.loc[df_smoking['location_name'].isin(central_l_a), 'sub_super_region'] = \"Central Latin America\"\n",
    "df_smoking.loc[df_smoking['location_name'].isin(tropical_l_a), 'sub_super_region'] = \"Tropical Latin America\"\n",
    "df_smoking.loc[df_smoking['location_name'].isin(['Latin America and Caribbean']), 'sub_super_region'] = \"Latin America and Caribbean\"\n",
    "\n",
    "df_smoking.loc[df_smoking['sub_super_region'].isin(latin_america_caribbean), 'super_region'] = \"Latin America and Caribbean\"\n"
   ]
  },
  {
   "cell_type": "code",
   "execution_count": null,
   "metadata": {},
   "outputs": [],
   "source": [
    "north_africa_middle_east = ['North Africa and Middle East', 'Algeria', 'Bahrain', 'Egypt', 'Iran (Islamic Republic of)',\n",
    "                             'Iraq', 'Jordan', 'Kuwait', 'Lebanon', 'Libya', 'Morocco', 'Palestine', 'Oman', 'Qatar',\n",
    "                               'Saudi Arabia', 'Syrian Arab Republic', 'Tunisia', 'Turkey', 'United Arab Emirates', 'Yemen']\n",
    "\n",
    "df_smoking.loc[df_smoking['location_name'].isin(north_africa_middle_east), 'sub_super_region'] = \"North Africa and Middle East\"\n",
    "df_smoking.loc[df_smoking['sub_super_region'].isin(['North Africa and Middle East']), 'super_region'] = \"North Africa and Middle East\"\n",
    "\n"
   ]
  },
  {
   "cell_type": "code",
   "execution_count": null,
   "metadata": {},
   "outputs": [],
   "source": [
    "south_asia = ['South Asia', 'Afghanistan', 'Bangladesh', 'Bhutan', 'India', 'Nepal', 'Pakistan']\n",
    "\n",
    "df_smoking.loc[df_smoking['location_name'].isin(south_asia), 'sub_super_region'] = \"South Asia\"\n",
    "df_smoking.loc[df_smoking['sub_super_region'].isin(['South Asia']), 'super_region'] = \"South Asia\"\n"
   ]
  },
  {
   "cell_type": "code",
   "execution_count": null,
   "metadata": {},
   "outputs": [],
   "source": [
    "central_sub_s_a = ['Central Sub-Saharan Africa', 'Angola',\n",
    " 'Central African Republic', 'Congo', 'Democratic Republic of the Congo',\n",
    " 'Equatorial Guinea', 'Gabon']\n",
    "eastern_sub_s_a = ['Eastern Sub-Saharan Africa', 'Burundi', 'Comoros', 'Djibouti', 'Eritrea', 'Ethiopia', 'Kenya', 'Madagascar', 'Malawi',\n",
    " 'Mauritius', 'Mozambique', 'Rwanda', 'Seychelles', 'Somalia', 'United Republic of Tanzania', 'Uganda', 'Zambia', 'Sudan', 'South Sudan']\n",
    "southern_sub_s_a = ['Southern Sub-Saharan Africa', 'Botswana', 'Lesotho', 'Namibia', 'South Africa', 'Eswatini', 'Zimbabwe']\n",
    "western_sub_s_a = ['Western Sub-Saharan Africa', 'Benin', 'Burkina Faso', 'Cameroon', 'Cabo Verde', 'Chad', \"Côte d'Ivoire\", 'Gambia',\n",
    " 'Ghana', 'Guinea', 'Guinea-Bissau', 'Liberia', 'Mali', 'Mauritania', 'Niger',\n",
    " 'Nigeria', 'Sao Tome and Principe', 'Senegal', 'Sierra Leone', 'Togo']\n",
    "sub_saharan_africa = ['Central Sub-Saharan Africa', 'Eastern Sub-Saharan Africa', 'Southern Sub-Saharan Africa', 'Western Sub-Saharan Africa', 'Sub-Saharan Africa']\n",
    "\n",
    "df_smoking.loc[df_smoking['location_name'].isin(central_sub_s_a), 'sub_super_region'] = \"Central Sub-Saharan Africa\"\n",
    "df_smoking.loc[df_smoking['location_name'].isin(eastern_sub_s_a), 'sub_super_region'] = \"Eastern Sub-Saharan Africa\"\n",
    "df_smoking.loc[df_smoking['location_name'].isin(southern_sub_s_a), 'sub_super_region'] = \"Southern Sub-Saharan Africa\"\n",
    "df_smoking.loc[df_smoking['location_name'].isin(western_sub_s_a), 'sub_super_region'] = \"Western Sub-Saharan Africa\"\n",
    "df_smoking.loc[df_smoking['location_name'].isin(['Sub-Saharan Africa']), 'sub_super_region'] = \"Sub-Saharan Africa\"\n",
    "df_smoking.loc[df_smoking['sub_super_region'].isin(sub_saharan_africa), 'super_region'] = \"Sub-Saharan Africa\"\n",
    "\n"
   ]
  },
  {
   "cell_type": "code",
   "execution_count": null,
   "metadata": {},
   "outputs": [],
   "source": [
    "east_asia = ['East Asia', 'China', \"Democratic People's Republic of Korea\", 'Taiwan (Province of China)']\n",
    "southeast_asia = ['Southeast Asia', 'Cambodia', 'Indonesia',  \"Lao People's Democratic Republic\", 'Malaysia',\n",
    "                  'Maldives', 'Myanmar', 'Philippines', 'Sri Lanka', 'Thailand', 'Timor-Leste', 'Viet Nam']\n",
    "oceania = ['Oceania', 'Fiji', 'Kiribati', 'Marshall Islands', 'Micronesia (Federated States of)',\n",
    "            'Papua New Guinea', 'Samoa', 'Solomon Islands', 'Tonga', 'Vanuatu', 'Cook Islands', 'Guam', 'Nauru',\n",
    "            'Niue', 'Northern Mariana Islands', 'Palau', 'Tokelau', 'Tuvalu', ]\n",
    "asia_oceania = ['East Asia', 'Southeast Asia', 'Oceania', 'Southeast Asia, East Asia, and Oceania']\n",
    "\n",
    "df_smoking.loc[df_smoking['location_name'].isin(east_asia), 'sub_super_region'] = \"East Asia\"\n",
    "df_smoking.loc[df_smoking['location_name'].isin(southeast_asia), 'sub_super_region'] = \"Southeast Asia\"\n",
    "df_smoking.loc[df_smoking['location_name'].isin(oceania), 'sub_super_region'] = \"Oceania\"\n",
    "df_smoking.loc[df_smoking['location_name'].isin(asia_oceania), 'sub_super_region'] = \"Southeast Asia, East Asia, and Oceania\"\n",
    "df_smoking.loc[df_smoking['sub_super_region'].isin(asia_oceania), 'super_region'] = \"Southeast Asia, East Asia, and Oceania\""
   ]
  },
  {
   "cell_type": "code",
   "execution_count": null,
   "metadata": {},
   "outputs": [],
   "source": [
    "df_smoking.loc[df_smoking['location_name'].isin(['Global']), 'sub_super_region'] = \"Global\"\n",
    "df_smoking.loc[df_smoking['sub_super_region'].isin(['Global']), 'super_region'] = \"Global\"\n",
    "\n"
   ]
  },
  {
   "cell_type": "code",
   "execution_count": null,
   "metadata": {},
   "outputs": [],
   "source": [
    "# df_smoking.iloc[19980:20970]\n",
    "df_smoking.head(10)"
   ]
  },
  {
   "cell_type": "code",
   "execution_count": null,
   "metadata": {},
   "outputs": [],
   "source": [
    "df_smoking.to_csv('data/SMOKING_TOB_1990_2019_NUM_SMOKERS_updated.CSV', index=False)\n"
   ]
  },
  {
   "cell_type": "code",
   "execution_count": null,
   "metadata": {},
   "outputs": [],
   "source": [
    "fig = pl.sunburst(data_frame = df_smoking, path=['super_region', 'sub_super_region', 'location_name'])\n",
    "fig.show()"
   ]
  },
  {
   "cell_type": "code",
   "execution_count": null,
   "metadata": {},
   "outputs": [],
   "source": [
    "df = pd.read_csv('data/SMOKING_TOB_1990_2019_NUM_SMOKERS_updated.CSV')\n",
    "# df.iloc[19980:20970]\n",
    "df = df[df['year_id'] == 2001]\n",
    "df = df[df['sex_name'] == 'Both']\n",
    "df.loc[:, 'val'] = df['val'] * 100\n",
    "\n",
    "print(len(df))\n",
    "\n",
    "df = df[df['location_name'] != 'High-income']\n",
    "df = df[df['location_name'] != 'Global']\n",
    "df = df[df['location_name'] != 'Southeast Asia, East Asia, and Oceania']\n",
    "df = df[df['location_name'] != 'Central Europe, Eastern Europe, and Central Asia']\n",
    "df = df[df['location_name'] != 'Latin America and Caribbean']\n",
    "df = df[df['location_name'] != 'North Africa and Middle East']\n",
    "df = df[df['location_name'] != 'South Asia']\n",
    "df = df[df['location_name'] != 'East Asia']\n",
    "df = df[df['location_name'] != 'Southeast Asia, East Asia, and Oceania']\n",
    "df = df[df['location_name'] != 'Southeast Asia']\n",
    "df = df[df['location_name'] != 'Oceania']\n",
    "# df = df[df['location_name'] != 'East Asia']\n",
    "\n",
    "df = df[df['location_name'] != 'Sub-Saharan Africa']\n",
    "\n",
    "\n",
    "\n",
    "print(len(df))\n",
    "# df = df.rename(columns={'location_name': 'name'})\n",
    "# df = df.rename(columns={'val': 'value'})\n"
   ]
  },
  {
   "cell_type": "code",
   "execution_count": null,
   "metadata": {},
   "outputs": [],
   "source": [
    "df['location_name'].unique()"
   ]
  },
  {
   "cell_type": "code",
   "execution_count": null,
   "metadata": {},
   "outputs": [],
   "source": [
    "\n",
    "df.head()"
   ]
  },
  {
   "cell_type": "code",
   "execution_count": null,
   "metadata": {},
   "outputs": [],
   "source": [
    "df_subset = df[['location_name', 'val']]"
   ]
  },
  {
   "cell_type": "code",
   "execution_count": null,
   "metadata": {},
   "outputs": [],
   "source": [
    "df_subset.head()"
   ]
  },
  {
   "cell_type": "code",
   "execution_count": null,
   "metadata": {},
   "outputs": [],
   "source": [
    "df_subset.to_json('my_data.json', orient='records')"
   ]
  },
  {
   "cell_type": "code",
   "execution_count": null,
   "metadata": {},
   "outputs": [],
   "source": [
    "df = pd.read_csv('data/SMOKING_TOB_1990_2019_NUM_SMOKERS_updated.CSV.CSV')\n",
    "df.head()"
   ]
  },
  {
   "cell_type": "code",
   "execution_count": null,
   "metadata": {},
   "outputs": [],
   "source": [
    "df = df[df['year_id'] == 2015]\n",
    "df_subset = df[['location_name', 'val']]\n",
    "df_subset.head()\n"
   ]
  },
  {
   "cell_type": "code",
   "execution_count": null,
   "metadata": {},
   "outputs": [],
   "source": [
    "df_subset.head()"
   ]
  },
  {
   "cell_type": "code",
   "execution_count": null,
   "metadata": {},
   "outputs": [],
   "source": [
    "df_subset.loc[:, 'val'] = df_subset['val'] * 100\n",
    "df_subset.head()\n"
   ]
  },
  {
   "cell_type": "code",
   "execution_count": null,
   "metadata": {},
   "outputs": [],
   "source": [
    "df_subset.to_csv('data/multiline_graph_world_map.CSV', index=False)\n"
   ]
  },
  {
   "cell_type": "code",
   "execution_count": null,
   "metadata": {},
   "outputs": [],
   "source": []
  },
  {
   "cell_type": "code",
   "execution_count": null,
   "metadata": {},
   "outputs": [],
   "source": []
  }
 ],
 "metadata": {
  "kernelspec": {
   "display_name": "modern_nlp",
   "language": "python",
   "name": "python3"
  },
  "language_info": {
   "codemirror_mode": {
    "name": "ipython",
    "version": 3
   },
   "file_extension": ".py",
   "mimetype": "text/x-python",
   "name": "python",
   "nbconvert_exporter": "python",
   "pygments_lexer": "ipython3",
   "version": "3.11.3"
  },
  "orig_nbformat": 4
 },
 "nbformat": 4,
 "nbformat_minor": 2
}
