{
 "cells": [
  {
   "cell_type": "code",
   "execution_count": 104,
   "metadata": {},
   "outputs": [],
   "source": [
    "import pandas as pd\n",
    "import plotly.express as pl\n"
   ]
  },
  {
   "cell_type": "code",
   "execution_count": 105,
   "metadata": {},
   "outputs": [
    {
     "data": {
      "text/html": [
       "<div>\n",
       "<style scoped>\n",
       "    .dataframe tbody tr th:only-of-type {\n",
       "        vertical-align: middle;\n",
       "    }\n",
       "\n",
       "    .dataframe tbody tr th {\n",
       "        vertical-align: top;\n",
       "    }\n",
       "\n",
       "    .dataframe thead th {\n",
       "        text-align: right;\n",
       "    }\n",
       "</style>\n",
       "<table border=\"1\" class=\"dataframe\">\n",
       "  <thead>\n",
       "    <tr style=\"text-align: right;\">\n",
       "      <th></th>\n",
       "      <th>measure_name</th>\n",
       "      <th>location_id</th>\n",
       "      <th>location_name</th>\n",
       "      <th>sex_id</th>\n",
       "      <th>sex_name</th>\n",
       "      <th>age_group_id</th>\n",
       "      <th>age_group_name</th>\n",
       "      <th>year_id</th>\n",
       "      <th>val</th>\n",
       "      <th>upper</th>\n",
       "      <th>lower</th>\n",
       "    </tr>\n",
       "  </thead>\n",
       "  <tbody>\n",
       "    <tr>\n",
       "      <th>0</th>\n",
       "      <td>Age-Standardized Smoking Prevalence</td>\n",
       "      <td>1</td>\n",
       "      <td>Global</td>\n",
       "      <td>1</td>\n",
       "      <td>Male</td>\n",
       "      <td>29</td>\n",
       "      <td>15+ years</td>\n",
       "      <td>1990</td>\n",
       "      <td>0.450607</td>\n",
       "      <td>0.453930</td>\n",
       "      <td>0.446915</td>\n",
       "    </tr>\n",
       "    <tr>\n",
       "      <th>1</th>\n",
       "      <td>Age-Standardized Smoking Prevalence</td>\n",
       "      <td>1</td>\n",
       "      <td>Global</td>\n",
       "      <td>2</td>\n",
       "      <td>Female</td>\n",
       "      <td>29</td>\n",
       "      <td>15+ years</td>\n",
       "      <td>1990</td>\n",
       "      <td>0.106411</td>\n",
       "      <td>0.108623</td>\n",
       "      <td>0.104415</td>\n",
       "    </tr>\n",
       "    <tr>\n",
       "      <th>2</th>\n",
       "      <td>Age-Standardized Smoking Prevalence</td>\n",
       "      <td>1</td>\n",
       "      <td>Global</td>\n",
       "      <td>3</td>\n",
       "      <td>Both</td>\n",
       "      <td>29</td>\n",
       "      <td>15+ years</td>\n",
       "      <td>1990</td>\n",
       "      <td>0.278179</td>\n",
       "      <td>0.280235</td>\n",
       "      <td>0.276236</td>\n",
       "    </tr>\n",
       "    <tr>\n",
       "      <th>3</th>\n",
       "      <td>Age-Standardized Smoking Prevalence</td>\n",
       "      <td>1</td>\n",
       "      <td>Global</td>\n",
       "      <td>1</td>\n",
       "      <td>Male</td>\n",
       "      <td>29</td>\n",
       "      <td>15+ years</td>\n",
       "      <td>1991</td>\n",
       "      <td>0.447212</td>\n",
       "      <td>0.450214</td>\n",
       "      <td>0.443670</td>\n",
       "    </tr>\n",
       "    <tr>\n",
       "      <th>4</th>\n",
       "      <td>Age-Standardized Smoking Prevalence</td>\n",
       "      <td>1</td>\n",
       "      <td>Global</td>\n",
       "      <td>2</td>\n",
       "      <td>Female</td>\n",
       "      <td>29</td>\n",
       "      <td>15+ years</td>\n",
       "      <td>1991</td>\n",
       "      <td>0.105164</td>\n",
       "      <td>0.107276</td>\n",
       "      <td>0.103293</td>\n",
       "    </tr>\n",
       "  </tbody>\n",
       "</table>\n",
       "</div>"
      ],
      "text/plain": [
       "                          measure_name  location_id location_name  sex_id  \\\n",
       "0  Age-Standardized Smoking Prevalence            1        Global       1   \n",
       "1  Age-Standardized Smoking Prevalence            1        Global       2   \n",
       "2  Age-Standardized Smoking Prevalence            1        Global       3   \n",
       "3  Age-Standardized Smoking Prevalence            1        Global       1   \n",
       "4  Age-Standardized Smoking Prevalence            1        Global       2   \n",
       "\n",
       "  sex_name  age_group_id age_group_name  year_id       val     upper     lower  \n",
       "0     Male            29      15+ years     1990  0.450607  0.453930  0.446915  \n",
       "1   Female            29      15+ years     1990  0.106411  0.108623  0.104415  \n",
       "2     Both            29      15+ years     1990  0.278179  0.280235  0.276236  \n",
       "3     Male            29      15+ years     1991  0.447212  0.450214  0.443670  \n",
       "4   Female            29      15+ years     1991  0.105164  0.107276  0.103293  "
      ]
     },
     "execution_count": 105,
     "metadata": {},
     "output_type": "execute_result"
    }
   ],
   "source": [
    "df_smoking = pd.read_csv(\"data/SMOKING_TOB_1990_2019_PREV.CSV\")\n",
    "df_smoking.head()"
   ]
  },
  {
   "cell_type": "code",
   "execution_count": 106,
   "metadata": {},
   "outputs": [
    {
     "name": "stdout",
     "output_type": "stream",
     "text": [
      "['Global' 'Southeast Asia, East Asia, and Oceania' 'East Asia' 'China'\n",
      " \"Democratic People's Republic of Korea\" 'Taiwan (Province of China)'\n",
      " 'Southeast Asia' 'Cambodia' 'Indonesia'\n",
      " \"Lao People's Democratic Republic\" 'Malaysia' 'Maldives' 'Myanmar'\n",
      " 'Philippines' 'Sri Lanka' 'Thailand' 'Timor-Leste' 'Viet Nam' 'Oceania'\n",
      " 'Fiji' 'Kiribati' 'Marshall Islands' 'Micronesia (Federated States of)'\n",
      " 'Papua New Guinea' 'Samoa' 'Solomon Islands' 'Tonga' 'Vanuatu'\n",
      " 'Central Europe, Eastern Europe, and Central Asia' 'Central Asia'\n",
      " 'Armenia' 'Azerbaijan' 'Georgia' 'Kazakhstan' 'Kyrgyzstan' 'Mongolia'\n",
      " 'Tajikistan' 'Turkmenistan' 'Uzbekistan' 'Central Europe' 'Albania'\n",
      " 'Bosnia and Herzegovina' 'Bulgaria' 'Croatia' 'Czechia' 'Hungary'\n",
      " 'North Macedonia' 'Montenegro' 'Poland' 'Romania' 'Serbia' 'Slovakia'\n",
      " 'Slovenia' 'Eastern Europe' 'Belarus' 'Estonia' 'Latvia' 'Lithuania'\n",
      " 'Republic of Moldova' 'Russian Federation' 'Ukraine' 'High-income'\n",
      " 'High-income Asia Pacific' 'Brunei Darussalam' 'Japan'\n",
      " 'Republic of Korea' 'Singapore' 'Australasia' 'Australia' 'New Zealand'\n",
      " 'Western Europe' 'Andorra' 'Austria' 'Belgium' 'Cyprus' 'Denmark'\n",
      " 'Finland' 'France' 'Germany' 'Greece' 'Iceland' 'Ireland' 'Israel'\n",
      " 'Italy' 'Luxembourg' 'Malta' 'Netherlands' 'Norway' 'Portugal' 'Spain'\n",
      " 'Sweden' 'Switzerland' 'United Kingdom' 'Southern Latin America'\n",
      " 'Argentina' 'Chile' 'Uruguay' 'High-income North America' 'Canada'\n",
      " 'United States of America' 'Latin America and Caribbean' 'Caribbean'\n",
      " 'Antigua and Barbuda' 'Bahamas' 'Barbados' 'Belize' 'Cuba' 'Dominica'\n",
      " 'Dominican Republic' 'Grenada' 'Guyana' 'Haiti' 'Jamaica' 'Saint Lucia'\n",
      " 'Saint Vincent and the Grenadines' 'Suriname' 'Trinidad and Tobago'\n",
      " 'Andean Latin America' 'Bolivia (Plurinational State of)' 'Ecuador'\n",
      " 'Peru' 'Central Latin America' 'Colombia' 'Costa Rica' 'El Salvador'\n",
      " 'Guatemala' 'Honduras' 'Mexico' 'Nicaragua' 'Panama'\n",
      " 'Venezuela (Bolivarian Republic of)' 'Tropical Latin America' 'Brazil'\n",
      " 'Paraguay' 'North Africa and Middle East' 'Algeria' 'Bahrain' 'Egypt'\n",
      " 'Iran (Islamic Republic of)' 'Iraq' 'Jordan' 'Kuwait' 'Lebanon' 'Libya'\n",
      " 'Morocco' 'Palestine' 'Oman' 'Qatar' 'Saudi Arabia'\n",
      " 'Syrian Arab Republic' 'Tunisia' 'Turkey' 'United Arab Emirates' 'Yemen'\n",
      " 'South Asia' 'Afghanistan' 'Bangladesh' 'Bhutan' 'India' 'Nepal'\n",
      " 'Pakistan' 'Sub-Saharan Africa' 'Central Sub-Saharan Africa' 'Angola'\n",
      " 'Central African Republic' 'Congo' 'Democratic Republic of the Congo'\n",
      " 'Equatorial Guinea' 'Gabon' 'Eastern Sub-Saharan Africa' 'Burundi'\n",
      " 'Comoros' 'Djibouti' 'Eritrea' 'Ethiopia' 'Kenya' 'Madagascar' 'Malawi'\n",
      " 'Mauritius' 'Mozambique' 'Rwanda' 'Seychelles' 'Somalia'\n",
      " 'United Republic of Tanzania' 'Uganda' 'Zambia'\n",
      " 'Southern Sub-Saharan Africa' 'Botswana' 'Lesotho' 'Namibia'\n",
      " 'South Africa' 'Eswatini' 'Zimbabwe' 'Western Sub-Saharan Africa' 'Benin'\n",
      " 'Burkina Faso' 'Cameroon' 'Cabo Verde' 'Chad' \"Côte d'Ivoire\" 'Gambia'\n",
      " 'Ghana' 'Guinea' 'Guinea-Bissau' 'Liberia' 'Mali' 'Mauritania' 'Niger'\n",
      " 'Nigeria' 'Sao Tome and Principe' 'Senegal' 'Sierra Leone' 'Togo'\n",
      " 'American Samoa' 'Bermuda' 'Cook Islands' 'Greenland' 'Guam' 'Monaco'\n",
      " 'Nauru' 'Niue' 'Northern Mariana Islands' 'Palau' 'Puerto Rico'\n",
      " 'Saint Kitts and Nevis' 'San Marino' 'Tokelau' 'Tuvalu'\n",
      " 'United States Virgin Islands' 'South Sudan' 'Sudan']\n",
      "231\n"
     ]
    }
   ],
   "source": [
    "print(df_smoking['location_name'].unique())\n",
    "print(len(df_smoking['location_name'].unique()))\n"
   ]
  },
  {
   "cell_type": "code",
   "execution_count": 107,
   "metadata": {},
   "outputs": [
    {
     "name": "stdout",
     "output_type": "stream",
     "text": [
      "20970\n"
     ]
    }
   ],
   "source": [
    "print(len(df_smoking))"
   ]
  },
  {
   "cell_type": "code",
   "execution_count": 108,
   "metadata": {},
   "outputs": [],
   "source": [
    "central_europe = ['Romania', 'Poland', 'Serbia', 'Slovenia', 'Albania', 'Bosnia and Herzegovina',\n",
    "                  'Bulgaria', 'Croatia', 'Chez Republic', 'Czechia', 'Hungary', 'Macedonia', 'North Macedonia',\n",
    "                   'Slovakia', 'Montenegro', 'Central Europe']\n",
    "eastern_europe = ['Eastern Europe', 'Belarus', 'Estonia', 'Latvia', 'Lithuania',\n",
    " 'Republic of Moldova', 'Russian Federation', 'Ukraine']\n",
    "central_asia = ['Central Asia', 'Armenia', 'Azerbaijan', 'Georgia', 'Kazakhstan', 'Kyrgyzstan', 'Mongolia',\n",
    " 'Tajikistan', 'Turkmenistan', 'Uzbekistan']\n",
    "ce_ee_ca = ['Central Asia', 'Central Europe', 'Eastern Europe', 'Central Europe, Eastern Europe, and Central Asia']\n",
    "\n",
    "# assign sub super region\n",
    "df_smoking.loc[df_smoking['location_name'].isin(central_asia), 'sub_super_region'] = \"Central Asia\"\n",
    "df_smoking.loc[df_smoking['location_name'].isin(central_europe), 'sub_super_region'] = \"Central Europe\"\n",
    "df_smoking.loc[df_smoking['location_name'].isin(eastern_europe), 'sub_super_region'] = \"Eastern Europe\"\n",
    "df_smoking.loc[df_smoking['location_name'].isin(['Central Europe, Eastern Europe, and Central Asia']), 'sub_super_region'] = \"Central Europe, Eastern Europe, and Central Asia\"\n",
    "# super region \n",
    "df_smoking.loc[df_smoking['sub_super_region'].isin(ce_ee_ca), 'super_region'] = \"Central Europe, Eastern Europe, and Central Asia\"\n",
    "\n"
   ]
  },
  {
   "cell_type": "code",
   "execution_count": 109,
   "metadata": {},
   "outputs": [],
   "source": [
    "western_europe = ['Western Europe', 'Andorra', 'Austria', 'Belgium', 'Cyprus', 'Denmark',\n",
    " 'Finland', 'France', 'Germany', 'Greece', 'Iceland', 'Ireland', 'Israel',\n",
    " 'Italy', 'Luxembourg', 'Malta', 'Monaco', 'Netherlands', 'Norway', 'Portugal', 'Spain',\n",
    " 'Sweden', 'Switzerland', 'United Kingdom', 'Greenland', 'San Marino']\n",
    "southern_l_a = ['Southern Latin America','Argentina', 'Chile', 'Uruguay']\n",
    "h_i_north_america = ['High-income North America', 'Canada', 'United States of America']\n",
    "australasia = ['Australasia', 'Australia', 'New Zealand']\n",
    "h_i_asia__pacific = ['High-income Asia Pacific', 'Brunei Darussalam', 'Japan', 'Republic of Korea', 'Singapore']\n",
    "high_income = ['Western Europe', 'Southern Latin America', 'High-income North America', 'Australasia', 'High-income Asia Pacific', 'High-income']\n",
    "\n",
    "df_smoking.loc[df_smoking['location_name'].isin(western_europe), 'sub_super_region'] = \"Western Europe\"\n",
    "df_smoking.loc[df_smoking['location_name'].isin(southern_l_a), 'sub_super_region'] = \"Southern Latin America\"\n",
    "df_smoking.loc[df_smoking['location_name'].isin(h_i_north_america), 'sub_super_region'] = \"High-income North America\"\n",
    "df_smoking.loc[df_smoking['location_name'].isin(australasia), 'sub_super_region'] = \"Australasia\"\n",
    "df_smoking.loc[df_smoking['location_name'].isin(h_i_asia__pacific), 'sub_super_region'] = \"High-income Asia Pacific\"\n",
    "df_smoking.loc[df_smoking['location_name'].isin(['High-income']), 'sub_super_region'] = \"High-income\"\n",
    "df_smoking.loc[df_smoking['sub_super_region'].isin(high_income), 'super_region'] = \"High-income\"\n",
    "\n"
   ]
  },
  {
   "cell_type": "code",
   "execution_count": 110,
   "metadata": {},
   "outputs": [],
   "source": [
    "caribbean = ['Caribbean', 'Antigua and Barbuda', 'Bahamas', 'Barbados', 'Belize', 'Cuba', 'Dominica',\n",
    " 'Dominican Republic', 'Grenada', 'Guyana', 'Haiti', 'Jamaica', 'Saint Lucia',\n",
    " 'Saint Vincent and the Grenadines', 'Suriname', 'Trinidad and Tobago']\n",
    "andean_l_a = ['Andean Latin America', 'Bolivia (Plurinational State of)', 'Ecuador', 'Peru', 'Bermuda']\n",
    "central_l_a = ['Central Latin America', 'Colombia', 'Costa Rica', 'El Salvador', 'Guatemala', 'Honduras', 'Mexico',\n",
    "                 'Nicaragua', 'Panama', 'Venezuela (Bolivarian Republic of)', 'Puerto Rico', 'Saint Kitts and Nevis', 'United States Virgin Islands']\n",
    "tropical_l_a = ['Tropical Latin America', 'Brazil', 'Paraguay', 'American Samoa']\n",
    "\n",
    "latin_america_caribbean = ['Latin America and Caribbean', 'Caribbean', 'Andean Latin America', 'Central Latin America', 'Tropical Latin America']\n",
    "\n",
    "df_smoking.loc[df_smoking['location_name'].isin(caribbean), 'sub_super_region'] = \"Caribbean\"\n",
    "df_smoking.loc[df_smoking['location_name'].isin(andean_l_a), 'sub_super_region'] = \"Andean Latin America\"\n",
    "df_smoking.loc[df_smoking['location_name'].isin(central_l_a), 'sub_super_region'] = \"Central Latin America\"\n",
    "df_smoking.loc[df_smoking['location_name'].isin(tropical_l_a), 'sub_super_region'] = \"Tropical Latin America\"\n",
    "df_smoking.loc[df_smoking['location_name'].isin(['Latin America and Caribbean']), 'sub_super_region'] = \"Latin America and Caribbean\"\n",
    "\n",
    "df_smoking.loc[df_smoking['sub_super_region'].isin(latin_america_caribbean), 'super_region'] = \"Latin America and Caribbean\"\n"
   ]
  },
  {
   "cell_type": "code",
   "execution_count": 111,
   "metadata": {},
   "outputs": [],
   "source": [
    "north_africa_middle_east = ['North Africa and Middle East', 'Algeria', 'Bahrain', 'Egypt', 'Iran (Islamic Republic of)',\n",
    "                             'Iraq', 'Jordan', 'Kuwait', 'Lebanon', 'Libya', 'Morocco', 'Palestine', 'Oman', 'Qatar',\n",
    "                               'Saudi Arabia', 'Syrian Arab Republic', 'Tunisia', 'Turkey', 'United Arab Emirates', 'Yemen']\n",
    "\n",
    "df_smoking.loc[df_smoking['location_name'].isin(north_africa_middle_east), 'sub_super_region'] = \"North Africa and Middle East\"\n",
    "df_smoking.loc[df_smoking['sub_super_region'].isin(['North Africa and Middle East']), 'super_region'] = \"North Africa and Middle East\"\n",
    "\n"
   ]
  },
  {
   "cell_type": "code",
   "execution_count": 112,
   "metadata": {},
   "outputs": [],
   "source": [
    "south_asia = ['South Asia', 'Afghanistan', 'Bangladesh', 'Bhutan', 'India', 'Nepal', 'Pakistan']\n",
    "\n",
    "df_smoking.loc[df_smoking['location_name'].isin(south_asia), 'sub_super_region'] = \"South Asia\"\n",
    "df_smoking.loc[df_smoking['sub_super_region'].isin(['South Asia']), 'super_region'] = \"South Asia\"\n"
   ]
  },
  {
   "cell_type": "code",
   "execution_count": 113,
   "metadata": {},
   "outputs": [],
   "source": [
    "central_sub_s_a = ['Central Sub-Saharan Africa', 'Angola',\n",
    " 'Central African Republic', 'Congo', 'Democratic Republic of the Congo',\n",
    " 'Equatorial Guinea', 'Gabon']\n",
    "eastern_sub_s_a = ['Eastern Sub-Saharan Africa', 'Burundi', 'Comoros', 'Djibouti', 'Eritrea', 'Ethiopia', 'Kenya', 'Madagascar', 'Malawi',\n",
    " 'Mauritius', 'Mozambique', 'Rwanda', 'Seychelles', 'Somalia', 'United Republic of Tanzania', 'Uganda', 'Zambia', 'Sudan', 'South Sudan']\n",
    "southern_sub_s_a = ['Southern Sub-Saharan Africa', 'Botswana', 'Lesotho', 'Namibia', 'South Africa', 'Eswatini', 'Zimbabwe']\n",
    "western_sub_s_a = ['Western Sub-Saharan Africa', 'Benin', 'Burkina Faso', 'Cameroon', 'Cabo Verde', 'Chad', \"Côte d'Ivoire\", 'Gambia',\n",
    " 'Ghana', 'Guinea', 'Guinea-Bissau', 'Liberia', 'Mali', 'Mauritania', 'Niger',\n",
    " 'Nigeria', 'Sao Tome and Principe', 'Senegal', 'Sierra Leone', 'Togo']\n",
    "sub_saharan_africa = ['Central Sub-Saharan Africa', 'Eastern Sub-Saharan Africa', 'Southern Sub-Saharan Africa', 'Western Sub-Saharan Africa', 'Sub-Saharan Africa']\n",
    "\n",
    "df_smoking.loc[df_smoking['location_name'].isin(central_sub_s_a), 'sub_super_region'] = \"Central Sub-Saharan Africa\"\n",
    "df_smoking.loc[df_smoking['location_name'].isin(eastern_sub_s_a), 'sub_super_region'] = \"Eastern Sub-Saharan Africa\"\n",
    "df_smoking.loc[df_smoking['location_name'].isin(southern_sub_s_a), 'sub_super_region'] = \"Southern Sub-Saharan Africa\"\n",
    "df_smoking.loc[df_smoking['location_name'].isin(western_sub_s_a), 'sub_super_region'] = \"Western Sub-Saharan Africa\"\n",
    "df_smoking.loc[df_smoking['location_name'].isin(['Sub-Saharan Africa']), 'sub_super_region'] = \"Sub-Saharan Africa\"\n",
    "df_smoking.loc[df_smoking['sub_super_region'].isin(sub_saharan_africa), 'super_region'] = \"Sub-Saharan Africa\"\n",
    "\n"
   ]
  },
  {
   "cell_type": "code",
   "execution_count": 114,
   "metadata": {},
   "outputs": [],
   "source": [
    "east_asia = ['East Asia', 'China', \"Democratic People's Republic of Korea\", 'Taiwan (Province of China)']\n",
    "southeast_asia = ['Southeast Asia', 'Cambodia', 'Indonesia',  \"Lao People's Democratic Republic\", 'Malaysia',\n",
    "                  'Maldives', 'Myanmar', 'Philippines', 'Sri Lanka', 'Thailand', 'Timor-Leste', 'Viet Nam']\n",
    "oceania = ['Oceania', 'Fiji', 'Kiribati', 'Marshall Islands', 'Micronesia (Federated States of)',\n",
    "            'Papua New Guinea', 'Samoa', 'Solomon Islands', 'Tonga', 'Vanuatu', 'Cook Islands', 'Guam', 'Nauru',\n",
    "            'Niue', 'Northern Mariana Islands', 'Palau', 'Tokelau', 'Tuvalu', ]\n",
    "asia_oceania = ['East Asia', 'Southeast Asia', 'Oceania', 'Southeast Asia, East Asia, and Oceania']\n",
    "\n",
    "df_smoking.loc[df_smoking['location_name'].isin(east_asia), 'sub_super_region'] = \"East Asia\"\n",
    "df_smoking.loc[df_smoking['location_name'].isin(southeast_asia), 'sub_super_region'] = \"Southeast Asia\"\n",
    "df_smoking.loc[df_smoking['location_name'].isin(oceania), 'sub_super_region'] = \"Oceania\"\n",
    "df_smoking.loc[df_smoking['location_name'].isin(asia_oceania), 'sub_super_region'] = \"Southeast Asia, East Asia, and Oceania\"\n",
    "df_smoking.loc[df_smoking['sub_super_region'].isin(asia_oceania), 'super_region'] = \"Southeast Asia, East Asia, and Oceania\""
   ]
  },
  {
   "cell_type": "code",
   "execution_count": 119,
   "metadata": {},
   "outputs": [],
   "source": [
    "df_smoking.loc[df_smoking['location_name'].isin(['Global']), 'sub_super_region'] = \"Global\"\n",
    "df_smoking.loc[df_smoking['sub_super_region'].isin(['Global']), 'super_region'] = \"Global\"\n",
    "\n"
   ]
  },
  {
   "cell_type": "code",
   "execution_count": 120,
   "metadata": {},
   "outputs": [
    {
     "data": {
      "text/html": [
       "<div>\n",
       "<style scoped>\n",
       "    .dataframe tbody tr th:only-of-type {\n",
       "        vertical-align: middle;\n",
       "    }\n",
       "\n",
       "    .dataframe tbody tr th {\n",
       "        vertical-align: top;\n",
       "    }\n",
       "\n",
       "    .dataframe thead th {\n",
       "        text-align: right;\n",
       "    }\n",
       "</style>\n",
       "<table border=\"1\" class=\"dataframe\">\n",
       "  <thead>\n",
       "    <tr style=\"text-align: right;\">\n",
       "      <th></th>\n",
       "      <th>measure_name</th>\n",
       "      <th>location_id</th>\n",
       "      <th>location_name</th>\n",
       "      <th>sex_id</th>\n",
       "      <th>sex_name</th>\n",
       "      <th>age_group_id</th>\n",
       "      <th>age_group_name</th>\n",
       "      <th>year_id</th>\n",
       "      <th>val</th>\n",
       "      <th>upper</th>\n",
       "      <th>lower</th>\n",
       "      <th>sub_super_region</th>\n",
       "      <th>super_region</th>\n",
       "    </tr>\n",
       "  </thead>\n",
       "  <tbody>\n",
       "    <tr>\n",
       "      <th>0</th>\n",
       "      <td>Age-Standardized Smoking Prevalence</td>\n",
       "      <td>1</td>\n",
       "      <td>Global</td>\n",
       "      <td>1</td>\n",
       "      <td>Male</td>\n",
       "      <td>29</td>\n",
       "      <td>15+ years</td>\n",
       "      <td>1990</td>\n",
       "      <td>0.450607</td>\n",
       "      <td>0.453930</td>\n",
       "      <td>0.446915</td>\n",
       "      <td>Global</td>\n",
       "      <td>Global</td>\n",
       "    </tr>\n",
       "    <tr>\n",
       "      <th>1</th>\n",
       "      <td>Age-Standardized Smoking Prevalence</td>\n",
       "      <td>1</td>\n",
       "      <td>Global</td>\n",
       "      <td>2</td>\n",
       "      <td>Female</td>\n",
       "      <td>29</td>\n",
       "      <td>15+ years</td>\n",
       "      <td>1990</td>\n",
       "      <td>0.106411</td>\n",
       "      <td>0.108623</td>\n",
       "      <td>0.104415</td>\n",
       "      <td>Global</td>\n",
       "      <td>Global</td>\n",
       "    </tr>\n",
       "    <tr>\n",
       "      <th>2</th>\n",
       "      <td>Age-Standardized Smoking Prevalence</td>\n",
       "      <td>1</td>\n",
       "      <td>Global</td>\n",
       "      <td>3</td>\n",
       "      <td>Both</td>\n",
       "      <td>29</td>\n",
       "      <td>15+ years</td>\n",
       "      <td>1990</td>\n",
       "      <td>0.278179</td>\n",
       "      <td>0.280235</td>\n",
       "      <td>0.276236</td>\n",
       "      <td>Global</td>\n",
       "      <td>Global</td>\n",
       "    </tr>\n",
       "    <tr>\n",
       "      <th>3</th>\n",
       "      <td>Age-Standardized Smoking Prevalence</td>\n",
       "      <td>1</td>\n",
       "      <td>Global</td>\n",
       "      <td>1</td>\n",
       "      <td>Male</td>\n",
       "      <td>29</td>\n",
       "      <td>15+ years</td>\n",
       "      <td>1991</td>\n",
       "      <td>0.447212</td>\n",
       "      <td>0.450214</td>\n",
       "      <td>0.443670</td>\n",
       "      <td>Global</td>\n",
       "      <td>Global</td>\n",
       "    </tr>\n",
       "    <tr>\n",
       "      <th>4</th>\n",
       "      <td>Age-Standardized Smoking Prevalence</td>\n",
       "      <td>1</td>\n",
       "      <td>Global</td>\n",
       "      <td>2</td>\n",
       "      <td>Female</td>\n",
       "      <td>29</td>\n",
       "      <td>15+ years</td>\n",
       "      <td>1991</td>\n",
       "      <td>0.105164</td>\n",
       "      <td>0.107276</td>\n",
       "      <td>0.103293</td>\n",
       "      <td>Global</td>\n",
       "      <td>Global</td>\n",
       "    </tr>\n",
       "    <tr>\n",
       "      <th>5</th>\n",
       "      <td>Age-Standardized Smoking Prevalence</td>\n",
       "      <td>1</td>\n",
       "      <td>Global</td>\n",
       "      <td>3</td>\n",
       "      <td>Both</td>\n",
       "      <td>29</td>\n",
       "      <td>15+ years</td>\n",
       "      <td>1991</td>\n",
       "      <td>0.275964</td>\n",
       "      <td>0.277921</td>\n",
       "      <td>0.274053</td>\n",
       "      <td>Global</td>\n",
       "      <td>Global</td>\n",
       "    </tr>\n",
       "    <tr>\n",
       "      <th>6</th>\n",
       "      <td>Age-Standardized Smoking Prevalence</td>\n",
       "      <td>1</td>\n",
       "      <td>Global</td>\n",
       "      <td>1</td>\n",
       "      <td>Male</td>\n",
       "      <td>29</td>\n",
       "      <td>15+ years</td>\n",
       "      <td>1992</td>\n",
       "      <td>0.443359</td>\n",
       "      <td>0.446333</td>\n",
       "      <td>0.440023</td>\n",
       "      <td>Global</td>\n",
       "      <td>Global</td>\n",
       "    </tr>\n",
       "    <tr>\n",
       "      <th>7</th>\n",
       "      <td>Age-Standardized Smoking Prevalence</td>\n",
       "      <td>1</td>\n",
       "      <td>Global</td>\n",
       "      <td>2</td>\n",
       "      <td>Female</td>\n",
       "      <td>29</td>\n",
       "      <td>15+ years</td>\n",
       "      <td>1992</td>\n",
       "      <td>0.103951</td>\n",
       "      <td>0.105943</td>\n",
       "      <td>0.102128</td>\n",
       "      <td>Global</td>\n",
       "      <td>Global</td>\n",
       "    </tr>\n",
       "    <tr>\n",
       "      <th>8</th>\n",
       "      <td>Age-Standardized Smoking Prevalence</td>\n",
       "      <td>1</td>\n",
       "      <td>Global</td>\n",
       "      <td>3</td>\n",
       "      <td>Both</td>\n",
       "      <td>29</td>\n",
       "      <td>15+ years</td>\n",
       "      <td>1992</td>\n",
       "      <td>0.273516</td>\n",
       "      <td>0.275395</td>\n",
       "      <td>0.271688</td>\n",
       "      <td>Global</td>\n",
       "      <td>Global</td>\n",
       "    </tr>\n",
       "    <tr>\n",
       "      <th>9</th>\n",
       "      <td>Age-Standardized Smoking Prevalence</td>\n",
       "      <td>1</td>\n",
       "      <td>Global</td>\n",
       "      <td>1</td>\n",
       "      <td>Male</td>\n",
       "      <td>29</td>\n",
       "      <td>15+ years</td>\n",
       "      <td>1993</td>\n",
       "      <td>0.439086</td>\n",
       "      <td>0.442012</td>\n",
       "      <td>0.435972</td>\n",
       "      <td>Global</td>\n",
       "      <td>Global</td>\n",
       "    </tr>\n",
       "  </tbody>\n",
       "</table>\n",
       "</div>"
      ],
      "text/plain": [
       "                          measure_name  location_id location_name  sex_id  \\\n",
       "0  Age-Standardized Smoking Prevalence            1        Global       1   \n",
       "1  Age-Standardized Smoking Prevalence            1        Global       2   \n",
       "2  Age-Standardized Smoking Prevalence            1        Global       3   \n",
       "3  Age-Standardized Smoking Prevalence            1        Global       1   \n",
       "4  Age-Standardized Smoking Prevalence            1        Global       2   \n",
       "5  Age-Standardized Smoking Prevalence            1        Global       3   \n",
       "6  Age-Standardized Smoking Prevalence            1        Global       1   \n",
       "7  Age-Standardized Smoking Prevalence            1        Global       2   \n",
       "8  Age-Standardized Smoking Prevalence            1        Global       3   \n",
       "9  Age-Standardized Smoking Prevalence            1        Global       1   \n",
       "\n",
       "  sex_name  age_group_id age_group_name  year_id       val     upper  \\\n",
       "0     Male            29      15+ years     1990  0.450607  0.453930   \n",
       "1   Female            29      15+ years     1990  0.106411  0.108623   \n",
       "2     Both            29      15+ years     1990  0.278179  0.280235   \n",
       "3     Male            29      15+ years     1991  0.447212  0.450214   \n",
       "4   Female            29      15+ years     1991  0.105164  0.107276   \n",
       "5     Both            29      15+ years     1991  0.275964  0.277921   \n",
       "6     Male            29      15+ years     1992  0.443359  0.446333   \n",
       "7   Female            29      15+ years     1992  0.103951  0.105943   \n",
       "8     Both            29      15+ years     1992  0.273516  0.275395   \n",
       "9     Male            29      15+ years     1993  0.439086  0.442012   \n",
       "\n",
       "      lower sub_super_region super_region  \n",
       "0  0.446915           Global       Global  \n",
       "1  0.104415           Global       Global  \n",
       "2  0.276236           Global       Global  \n",
       "3  0.443670           Global       Global  \n",
       "4  0.103293           Global       Global  \n",
       "5  0.274053           Global       Global  \n",
       "6  0.440023           Global       Global  \n",
       "7  0.102128           Global       Global  \n",
       "8  0.271688           Global       Global  \n",
       "9  0.435972           Global       Global  "
      ]
     },
     "execution_count": 120,
     "metadata": {},
     "output_type": "execute_result"
    }
   ],
   "source": [
    "# df_smoking.iloc[19980:20970]\n",
    "df_smoking.head(10)"
   ]
  },
  {
   "cell_type": "code",
   "execution_count": 123,
   "metadata": {},
   "outputs": [],
   "source": [
    "df_smoking.to_csv('data/SMOKING_TOB_1990_2019_NUM_SMOKERS_updated.CSV', index=False)\n"
   ]
  },
  {
   "cell_type": "code",
   "execution_count": 125,
   "metadata": {},
   "outputs": [
    {
     "data": {
      "text/html": [
       "<div>\n",
       "<style scoped>\n",
       "    .dataframe tbody tr th:only-of-type {\n",
       "        vertical-align: middle;\n",
       "    }\n",
       "\n",
       "    .dataframe tbody tr th {\n",
       "        vertical-align: top;\n",
       "    }\n",
       "\n",
       "    .dataframe thead th {\n",
       "        text-align: right;\n",
       "    }\n",
       "</style>\n",
       "<table border=\"1\" class=\"dataframe\">\n",
       "  <thead>\n",
       "    <tr style=\"text-align: right;\">\n",
       "      <th></th>\n",
       "      <th>measure_name</th>\n",
       "      <th>location_id</th>\n",
       "      <th>location_name</th>\n",
       "      <th>sex_id</th>\n",
       "      <th>sex_name</th>\n",
       "      <th>age_group_id</th>\n",
       "      <th>age_group_name</th>\n",
       "      <th>year_id</th>\n",
       "      <th>val</th>\n",
       "      <th>upper</th>\n",
       "      <th>lower</th>\n",
       "      <th>sub_super_region</th>\n",
       "      <th>super_region</th>\n",
       "    </tr>\n",
       "  </thead>\n",
       "  <tbody>\n",
       "    <tr>\n",
       "      <th>19980</th>\n",
       "      <td>Age-Standardized Smoking Prevalence</td>\n",
       "      <td>374</td>\n",
       "      <td>Niue</td>\n",
       "      <td>1</td>\n",
       "      <td>Male</td>\n",
       "      <td>29</td>\n",
       "      <td>15+ years</td>\n",
       "      <td>1990</td>\n",
       "      <td>0.292621</td>\n",
       "      <td>0.319756</td>\n",
       "      <td>0.267546</td>\n",
       "      <td>Oceania</td>\n",
       "      <td>Southeast Asia, East Asia, and Oceania</td>\n",
       "    </tr>\n",
       "    <tr>\n",
       "      <th>19981</th>\n",
       "      <td>Age-Standardized Smoking Prevalence</td>\n",
       "      <td>374</td>\n",
       "      <td>Niue</td>\n",
       "      <td>2</td>\n",
       "      <td>Female</td>\n",
       "      <td>29</td>\n",
       "      <td>15+ years</td>\n",
       "      <td>1990</td>\n",
       "      <td>0.162276</td>\n",
       "      <td>0.202103</td>\n",
       "      <td>0.127560</td>\n",
       "      <td>Oceania</td>\n",
       "      <td>Southeast Asia, East Asia, and Oceania</td>\n",
       "    </tr>\n",
       "    <tr>\n",
       "      <th>19982</th>\n",
       "      <td>Age-Standardized Smoking Prevalence</td>\n",
       "      <td>374</td>\n",
       "      <td>Niue</td>\n",
       "      <td>3</td>\n",
       "      <td>Both</td>\n",
       "      <td>29</td>\n",
       "      <td>15+ years</td>\n",
       "      <td>1990</td>\n",
       "      <td>0.227164</td>\n",
       "      <td>0.250699</td>\n",
       "      <td>0.205917</td>\n",
       "      <td>Oceania</td>\n",
       "      <td>Southeast Asia, East Asia, and Oceania</td>\n",
       "    </tr>\n",
       "    <tr>\n",
       "      <th>19983</th>\n",
       "      <td>Age-Standardized Smoking Prevalence</td>\n",
       "      <td>374</td>\n",
       "      <td>Niue</td>\n",
       "      <td>1</td>\n",
       "      <td>Male</td>\n",
       "      <td>29</td>\n",
       "      <td>15+ years</td>\n",
       "      <td>1991</td>\n",
       "      <td>0.291558</td>\n",
       "      <td>0.318480</td>\n",
       "      <td>0.266564</td>\n",
       "      <td>Oceania</td>\n",
       "      <td>Southeast Asia, East Asia, and Oceania</td>\n",
       "    </tr>\n",
       "    <tr>\n",
       "      <th>19984</th>\n",
       "      <td>Age-Standardized Smoking Prevalence</td>\n",
       "      <td>374</td>\n",
       "      <td>Niue</td>\n",
       "      <td>2</td>\n",
       "      <td>Female</td>\n",
       "      <td>29</td>\n",
       "      <td>15+ years</td>\n",
       "      <td>1991</td>\n",
       "      <td>0.161911</td>\n",
       "      <td>0.199790</td>\n",
       "      <td>0.127908</td>\n",
       "      <td>Oceania</td>\n",
       "      <td>Southeast Asia, East Asia, and Oceania</td>\n",
       "    </tr>\n",
       "    <tr>\n",
       "      <th>...</th>\n",
       "      <td>...</td>\n",
       "      <td>...</td>\n",
       "      <td>...</td>\n",
       "      <td>...</td>\n",
       "      <td>...</td>\n",
       "      <td>...</td>\n",
       "      <td>...</td>\n",
       "      <td>...</td>\n",
       "      <td>...</td>\n",
       "      <td>...</td>\n",
       "      <td>...</td>\n",
       "      <td>...</td>\n",
       "      <td>...</td>\n",
       "    </tr>\n",
       "    <tr>\n",
       "      <th>20965</th>\n",
       "      <td>Age-Standardized Smoking Prevalence</td>\n",
       "      <td>522</td>\n",
       "      <td>Sudan</td>\n",
       "      <td>2</td>\n",
       "      <td>Female</td>\n",
       "      <td>29</td>\n",
       "      <td>15+ years</td>\n",
       "      <td>2018</td>\n",
       "      <td>0.019498</td>\n",
       "      <td>0.025394</td>\n",
       "      <td>0.014783</td>\n",
       "      <td>Eastern Sub-Saharan Africa</td>\n",
       "      <td>Sub-Saharan Africa</td>\n",
       "    </tr>\n",
       "    <tr>\n",
       "      <th>20966</th>\n",
       "      <td>Age-Standardized Smoking Prevalence</td>\n",
       "      <td>522</td>\n",
       "      <td>Sudan</td>\n",
       "      <td>3</td>\n",
       "      <td>Both</td>\n",
       "      <td>29</td>\n",
       "      <td>15+ years</td>\n",
       "      <td>2018</td>\n",
       "      <td>0.107243</td>\n",
       "      <td>0.115060</td>\n",
       "      <td>0.099628</td>\n",
       "      <td>Eastern Sub-Saharan Africa</td>\n",
       "      <td>Sub-Saharan Africa</td>\n",
       "    </tr>\n",
       "    <tr>\n",
       "      <th>20967</th>\n",
       "      <td>Age-Standardized Smoking Prevalence</td>\n",
       "      <td>522</td>\n",
       "      <td>Sudan</td>\n",
       "      <td>1</td>\n",
       "      <td>Male</td>\n",
       "      <td>29</td>\n",
       "      <td>15+ years</td>\n",
       "      <td>2019</td>\n",
       "      <td>0.195406</td>\n",
       "      <td>0.211303</td>\n",
       "      <td>0.179990</td>\n",
       "      <td>Eastern Sub-Saharan Africa</td>\n",
       "      <td>Sub-Saharan Africa</td>\n",
       "    </tr>\n",
       "    <tr>\n",
       "      <th>20968</th>\n",
       "      <td>Age-Standardized Smoking Prevalence</td>\n",
       "      <td>522</td>\n",
       "      <td>Sudan</td>\n",
       "      <td>2</td>\n",
       "      <td>Female</td>\n",
       "      <td>29</td>\n",
       "      <td>15+ years</td>\n",
       "      <td>2019</td>\n",
       "      <td>0.019456</td>\n",
       "      <td>0.025376</td>\n",
       "      <td>0.014643</td>\n",
       "      <td>Eastern Sub-Saharan Africa</td>\n",
       "      <td>Sub-Saharan Africa</td>\n",
       "    </tr>\n",
       "    <tr>\n",
       "      <th>20969</th>\n",
       "      <td>Age-Standardized Smoking Prevalence</td>\n",
       "      <td>522</td>\n",
       "      <td>Sudan</td>\n",
       "      <td>3</td>\n",
       "      <td>Both</td>\n",
       "      <td>29</td>\n",
       "      <td>15+ years</td>\n",
       "      <td>2019</td>\n",
       "      <td>0.107282</td>\n",
       "      <td>0.115526</td>\n",
       "      <td>0.099393</td>\n",
       "      <td>Eastern Sub-Saharan Africa</td>\n",
       "      <td>Sub-Saharan Africa</td>\n",
       "    </tr>\n",
       "  </tbody>\n",
       "</table>\n",
       "<p>990 rows × 13 columns</p>\n",
       "</div>"
      ],
      "text/plain": [
       "                              measure_name  location_id location_name  sex_id  \\\n",
       "19980  Age-Standardized Smoking Prevalence          374          Niue       1   \n",
       "19981  Age-Standardized Smoking Prevalence          374          Niue       2   \n",
       "19982  Age-Standardized Smoking Prevalence          374          Niue       3   \n",
       "19983  Age-Standardized Smoking Prevalence          374          Niue       1   \n",
       "19984  Age-Standardized Smoking Prevalence          374          Niue       2   \n",
       "...                                    ...          ...           ...     ...   \n",
       "20965  Age-Standardized Smoking Prevalence          522         Sudan       2   \n",
       "20966  Age-Standardized Smoking Prevalence          522         Sudan       3   \n",
       "20967  Age-Standardized Smoking Prevalence          522         Sudan       1   \n",
       "20968  Age-Standardized Smoking Prevalence          522         Sudan       2   \n",
       "20969  Age-Standardized Smoking Prevalence          522         Sudan       3   \n",
       "\n",
       "      sex_name  age_group_id age_group_name  year_id       val     upper  \\\n",
       "19980     Male            29      15+ years     1990  0.292621  0.319756   \n",
       "19981   Female            29      15+ years     1990  0.162276  0.202103   \n",
       "19982     Both            29      15+ years     1990  0.227164  0.250699   \n",
       "19983     Male            29      15+ years     1991  0.291558  0.318480   \n",
       "19984   Female            29      15+ years     1991  0.161911  0.199790   \n",
       "...        ...           ...            ...      ...       ...       ...   \n",
       "20965   Female            29      15+ years     2018  0.019498  0.025394   \n",
       "20966     Both            29      15+ years     2018  0.107243  0.115060   \n",
       "20967     Male            29      15+ years     2019  0.195406  0.211303   \n",
       "20968   Female            29      15+ years     2019  0.019456  0.025376   \n",
       "20969     Both            29      15+ years     2019  0.107282  0.115526   \n",
       "\n",
       "          lower            sub_super_region  \\\n",
       "19980  0.267546                     Oceania   \n",
       "19981  0.127560                     Oceania   \n",
       "19982  0.205917                     Oceania   \n",
       "19983  0.266564                     Oceania   \n",
       "19984  0.127908                     Oceania   \n",
       "...         ...                         ...   \n",
       "20965  0.014783  Eastern Sub-Saharan Africa   \n",
       "20966  0.099628  Eastern Sub-Saharan Africa   \n",
       "20967  0.179990  Eastern Sub-Saharan Africa   \n",
       "20968  0.014643  Eastern Sub-Saharan Africa   \n",
       "20969  0.099393  Eastern Sub-Saharan Africa   \n",
       "\n",
       "                                 super_region  \n",
       "19980  Southeast Asia, East Asia, and Oceania  \n",
       "19981  Southeast Asia, East Asia, and Oceania  \n",
       "19982  Southeast Asia, East Asia, and Oceania  \n",
       "19983  Southeast Asia, East Asia, and Oceania  \n",
       "19984  Southeast Asia, East Asia, and Oceania  \n",
       "...                                       ...  \n",
       "20965                      Sub-Saharan Africa  \n",
       "20966                      Sub-Saharan Africa  \n",
       "20967                      Sub-Saharan Africa  \n",
       "20968                      Sub-Saharan Africa  \n",
       "20969                      Sub-Saharan Africa  \n",
       "\n",
       "[990 rows x 13 columns]"
      ]
     },
     "execution_count": 125,
     "metadata": {},
     "output_type": "execute_result"
    }
   ],
   "source": [
    "df = pd.read_csv('data/SMOKING_TOB_1990_2019_NUM_SMOKERS_updated.CSV')\n",
    "df.iloc[19980:20970]"
   ]
  },
  {
   "cell_type": "code",
   "execution_count": 122,
   "metadata": {},
   "outputs": [
    {
     "data": {
      "application/vnd.plotly.v1+json": {
       "config": {
        "plotlyServerURL": "https://plot.ly"
       },
       "data": [
        {
         "branchvalues": "total",
         "domain": {
          "x": [
           0,
           1
          ],
          "y": [
           0,
           1
          ]
         },
         "hovertemplate": "labels=%{label}<br>count=%{value}<br>parent=%{parent}<br>id=%{id}<extra></extra>",
         "ids": [
          "South Asia/South Asia/Afghanistan",
          "Central Europe, Eastern Europe, and Central Asia/Central Europe/Albania",
          "North Africa and Middle East/North Africa and Middle East/Algeria",
          "Latin America and Caribbean/Tropical Latin America/American Samoa",
          "Latin America and Caribbean/Andean Latin America/Andean Latin America",
          "High-income/Western Europe/Andorra",
          "Sub-Saharan Africa/Central Sub-Saharan Africa/Angola",
          "Latin America and Caribbean/Caribbean/Antigua and Barbuda",
          "High-income/Southern Latin America/Argentina",
          "Central Europe, Eastern Europe, and Central Asia/Central Asia/Armenia",
          "High-income/Australasia/Australasia",
          "High-income/Australasia/Australia",
          "High-income/Western Europe/Austria",
          "Central Europe, Eastern Europe, and Central Asia/Central Asia/Azerbaijan",
          "Latin America and Caribbean/Caribbean/Bahamas",
          "North Africa and Middle East/North Africa and Middle East/Bahrain",
          "South Asia/South Asia/Bangladesh",
          "Latin America and Caribbean/Caribbean/Barbados",
          "Central Europe, Eastern Europe, and Central Asia/Eastern Europe/Belarus",
          "High-income/Western Europe/Belgium",
          "Latin America and Caribbean/Caribbean/Belize",
          "Sub-Saharan Africa/Western Sub-Saharan Africa/Benin",
          "Latin America and Caribbean/Andean Latin America/Bermuda",
          "South Asia/South Asia/Bhutan",
          "Latin America and Caribbean/Andean Latin America/Bolivia (Plurinational State of)",
          "Central Europe, Eastern Europe, and Central Asia/Central Europe/Bosnia and Herzegovina",
          "Sub-Saharan Africa/Southern Sub-Saharan Africa/Botswana",
          "Latin America and Caribbean/Tropical Latin America/Brazil",
          "High-income/High-income Asia Pacific/Brunei Darussalam",
          "Central Europe, Eastern Europe, and Central Asia/Central Europe/Bulgaria",
          "Sub-Saharan Africa/Western Sub-Saharan Africa/Burkina Faso",
          "Sub-Saharan Africa/Eastern Sub-Saharan Africa/Burundi",
          "Sub-Saharan Africa/Western Sub-Saharan Africa/Cabo Verde",
          "Southeast Asia, East Asia, and Oceania/Southeast Asia/Cambodia",
          "Sub-Saharan Africa/Western Sub-Saharan Africa/Cameroon",
          "High-income/High-income North America/Canada",
          "Latin America and Caribbean/Caribbean/Caribbean",
          "Sub-Saharan Africa/Central Sub-Saharan Africa/Central African Republic",
          "Central Europe, Eastern Europe, and Central Asia/Central Asia/Central Asia",
          "Central Europe, Eastern Europe, and Central Asia/Central Europe/Central Europe",
          "Central Europe, Eastern Europe, and Central Asia/Central Europe, Eastern Europe, and Central Asia/Central Europe, Eastern Europe, and Central Asia",
          "Latin America and Caribbean/Central Latin America/Central Latin America",
          "Sub-Saharan Africa/Central Sub-Saharan Africa/Central Sub-Saharan Africa",
          "Sub-Saharan Africa/Western Sub-Saharan Africa/Chad",
          "High-income/Southern Latin America/Chile",
          "Southeast Asia, East Asia, and Oceania/East Asia/China",
          "Latin America and Caribbean/Central Latin America/Colombia",
          "Sub-Saharan Africa/Eastern Sub-Saharan Africa/Comoros",
          "Sub-Saharan Africa/Central Sub-Saharan Africa/Congo",
          "Southeast Asia, East Asia, and Oceania/Oceania/Cook Islands",
          "Latin America and Caribbean/Central Latin America/Costa Rica",
          "Central Europe, Eastern Europe, and Central Asia/Central Europe/Croatia",
          "Latin America and Caribbean/Caribbean/Cuba",
          "High-income/Western Europe/Cyprus",
          "Central Europe, Eastern Europe, and Central Asia/Central Europe/Czechia",
          "Sub-Saharan Africa/Western Sub-Saharan Africa/Côte d'Ivoire",
          "Southeast Asia, East Asia, and Oceania/East Asia/Democratic People's Republic of Korea",
          "Sub-Saharan Africa/Central Sub-Saharan Africa/Democratic Republic of the Congo",
          "High-income/Western Europe/Denmark",
          "Sub-Saharan Africa/Eastern Sub-Saharan Africa/Djibouti",
          "Latin America and Caribbean/Caribbean/Dominica",
          "Latin America and Caribbean/Caribbean/Dominican Republic",
          "Southeast Asia, East Asia, and Oceania/Southeast Asia, East Asia, and Oceania/East Asia",
          "Central Europe, Eastern Europe, and Central Asia/Eastern Europe/Eastern Europe",
          "Sub-Saharan Africa/Eastern Sub-Saharan Africa/Eastern Sub-Saharan Africa",
          "Latin America and Caribbean/Andean Latin America/Ecuador",
          "North Africa and Middle East/North Africa and Middle East/Egypt",
          "Latin America and Caribbean/Central Latin America/El Salvador",
          "Sub-Saharan Africa/Central Sub-Saharan Africa/Equatorial Guinea",
          "Sub-Saharan Africa/Eastern Sub-Saharan Africa/Eritrea",
          "Central Europe, Eastern Europe, and Central Asia/Eastern Europe/Estonia",
          "Sub-Saharan Africa/Southern Sub-Saharan Africa/Eswatini",
          "Sub-Saharan Africa/Eastern Sub-Saharan Africa/Ethiopia",
          "Southeast Asia, East Asia, and Oceania/Oceania/Fiji",
          "High-income/Western Europe/Finland",
          "High-income/Western Europe/France",
          "Sub-Saharan Africa/Central Sub-Saharan Africa/Gabon",
          "Sub-Saharan Africa/Western Sub-Saharan Africa/Gambia",
          "Central Europe, Eastern Europe, and Central Asia/Central Asia/Georgia",
          "High-income/Western Europe/Germany",
          "Sub-Saharan Africa/Western Sub-Saharan Africa/Ghana",
          "Global/Global/Global",
          "High-income/Western Europe/Greece",
          "High-income/Western Europe/Greenland",
          "Latin America and Caribbean/Caribbean/Grenada",
          "Southeast Asia, East Asia, and Oceania/Oceania/Guam",
          "Latin America and Caribbean/Central Latin America/Guatemala",
          "Sub-Saharan Africa/Western Sub-Saharan Africa/Guinea",
          "Sub-Saharan Africa/Western Sub-Saharan Africa/Guinea-Bissau",
          "Latin America and Caribbean/Caribbean/Guyana",
          "Latin America and Caribbean/Caribbean/Haiti",
          "High-income/High-income/High-income",
          "High-income/High-income Asia Pacific/High-income Asia Pacific",
          "High-income/High-income North America/High-income North America",
          "Latin America and Caribbean/Central Latin America/Honduras",
          "Central Europe, Eastern Europe, and Central Asia/Central Europe/Hungary",
          "High-income/Western Europe/Iceland",
          "South Asia/South Asia/India",
          "Southeast Asia, East Asia, and Oceania/Southeast Asia/Indonesia",
          "North Africa and Middle East/North Africa and Middle East/Iran (Islamic Republic of)",
          "North Africa and Middle East/North Africa and Middle East/Iraq",
          "High-income/Western Europe/Ireland",
          "High-income/Western Europe/Israel",
          "High-income/Western Europe/Italy",
          "Latin America and Caribbean/Caribbean/Jamaica",
          "High-income/High-income Asia Pacific/Japan",
          "North Africa and Middle East/North Africa and Middle East/Jordan",
          "Central Europe, Eastern Europe, and Central Asia/Central Asia/Kazakhstan",
          "Sub-Saharan Africa/Eastern Sub-Saharan Africa/Kenya",
          "Southeast Asia, East Asia, and Oceania/Oceania/Kiribati",
          "North Africa and Middle East/North Africa and Middle East/Kuwait",
          "Central Europe, Eastern Europe, and Central Asia/Central Asia/Kyrgyzstan",
          "Southeast Asia, East Asia, and Oceania/Southeast Asia/Lao People's Democratic Republic",
          "Latin America and Caribbean/Latin America and Caribbean/Latin America and Caribbean",
          "Central Europe, Eastern Europe, and Central Asia/Eastern Europe/Latvia",
          "North Africa and Middle East/North Africa and Middle East/Lebanon",
          "Sub-Saharan Africa/Southern Sub-Saharan Africa/Lesotho",
          "Sub-Saharan Africa/Western Sub-Saharan Africa/Liberia",
          "North Africa and Middle East/North Africa and Middle East/Libya",
          "Central Europe, Eastern Europe, and Central Asia/Eastern Europe/Lithuania",
          "High-income/Western Europe/Luxembourg",
          "Sub-Saharan Africa/Eastern Sub-Saharan Africa/Madagascar",
          "Sub-Saharan Africa/Eastern Sub-Saharan Africa/Malawi",
          "Southeast Asia, East Asia, and Oceania/Southeast Asia/Malaysia",
          "Southeast Asia, East Asia, and Oceania/Southeast Asia/Maldives",
          "Sub-Saharan Africa/Western Sub-Saharan Africa/Mali",
          "High-income/Western Europe/Malta",
          "Southeast Asia, East Asia, and Oceania/Oceania/Marshall Islands",
          "Sub-Saharan Africa/Western Sub-Saharan Africa/Mauritania",
          "Sub-Saharan Africa/Eastern Sub-Saharan Africa/Mauritius",
          "Latin America and Caribbean/Central Latin America/Mexico",
          "Southeast Asia, East Asia, and Oceania/Oceania/Micronesia (Federated States of)",
          "High-income/Western Europe/Monaco",
          "Central Europe, Eastern Europe, and Central Asia/Central Asia/Mongolia",
          "Central Europe, Eastern Europe, and Central Asia/Central Europe/Montenegro",
          "North Africa and Middle East/North Africa and Middle East/Morocco",
          "Sub-Saharan Africa/Eastern Sub-Saharan Africa/Mozambique",
          "Southeast Asia, East Asia, and Oceania/Southeast Asia/Myanmar",
          "Sub-Saharan Africa/Southern Sub-Saharan Africa/Namibia",
          "Southeast Asia, East Asia, and Oceania/Oceania/Nauru",
          "South Asia/South Asia/Nepal",
          "High-income/Western Europe/Netherlands",
          "High-income/Australasia/New Zealand",
          "Latin America and Caribbean/Central Latin America/Nicaragua",
          "Sub-Saharan Africa/Western Sub-Saharan Africa/Niger",
          "Sub-Saharan Africa/Western Sub-Saharan Africa/Nigeria",
          "Southeast Asia, East Asia, and Oceania/Oceania/Niue",
          "North Africa and Middle East/North Africa and Middle East/North Africa and Middle East",
          "Central Europe, Eastern Europe, and Central Asia/Central Europe/North Macedonia",
          "Southeast Asia, East Asia, and Oceania/Oceania/Northern Mariana Islands",
          "High-income/Western Europe/Norway",
          "Southeast Asia, East Asia, and Oceania/Southeast Asia, East Asia, and Oceania/Oceania",
          "North Africa and Middle East/North Africa and Middle East/Oman",
          "South Asia/South Asia/Pakistan",
          "Southeast Asia, East Asia, and Oceania/Oceania/Palau",
          "North Africa and Middle East/North Africa and Middle East/Palestine",
          "Latin America and Caribbean/Central Latin America/Panama",
          "Southeast Asia, East Asia, and Oceania/Oceania/Papua New Guinea",
          "Latin America and Caribbean/Tropical Latin America/Paraguay",
          "Latin America and Caribbean/Andean Latin America/Peru",
          "Southeast Asia, East Asia, and Oceania/Southeast Asia/Philippines",
          "Central Europe, Eastern Europe, and Central Asia/Central Europe/Poland",
          "High-income/Western Europe/Portugal",
          "Latin America and Caribbean/Central Latin America/Puerto Rico",
          "North Africa and Middle East/North Africa and Middle East/Qatar",
          "High-income/High-income Asia Pacific/Republic of Korea",
          "Central Europe, Eastern Europe, and Central Asia/Eastern Europe/Republic of Moldova",
          "Central Europe, Eastern Europe, and Central Asia/Central Europe/Romania",
          "Central Europe, Eastern Europe, and Central Asia/Eastern Europe/Russian Federation",
          "Sub-Saharan Africa/Eastern Sub-Saharan Africa/Rwanda",
          "Latin America and Caribbean/Central Latin America/Saint Kitts and Nevis",
          "Latin America and Caribbean/Caribbean/Saint Lucia",
          "Latin America and Caribbean/Caribbean/Saint Vincent and the Grenadines",
          "Southeast Asia, East Asia, and Oceania/Oceania/Samoa",
          "High-income/Western Europe/San Marino",
          "Sub-Saharan Africa/Western Sub-Saharan Africa/Sao Tome and Principe",
          "North Africa and Middle East/North Africa and Middle East/Saudi Arabia",
          "Sub-Saharan Africa/Western Sub-Saharan Africa/Senegal",
          "Central Europe, Eastern Europe, and Central Asia/Central Europe/Serbia",
          "Sub-Saharan Africa/Eastern Sub-Saharan Africa/Seychelles",
          "Sub-Saharan Africa/Western Sub-Saharan Africa/Sierra Leone",
          "High-income/High-income Asia Pacific/Singapore",
          "Central Europe, Eastern Europe, and Central Asia/Central Europe/Slovakia",
          "Central Europe, Eastern Europe, and Central Asia/Central Europe/Slovenia",
          "Southeast Asia, East Asia, and Oceania/Oceania/Solomon Islands",
          "Sub-Saharan Africa/Eastern Sub-Saharan Africa/Somalia",
          "Sub-Saharan Africa/Southern Sub-Saharan Africa/South Africa",
          "South Asia/South Asia/South Asia",
          "Sub-Saharan Africa/Eastern Sub-Saharan Africa/South Sudan",
          "Southeast Asia, East Asia, and Oceania/Southeast Asia, East Asia, and Oceania/Southeast Asia",
          "Southeast Asia, East Asia, and Oceania/Southeast Asia, East Asia, and Oceania/Southeast Asia, East Asia, and Oceania",
          "High-income/Southern Latin America/Southern Latin America",
          "Sub-Saharan Africa/Southern Sub-Saharan Africa/Southern Sub-Saharan Africa",
          "High-income/Western Europe/Spain",
          "Southeast Asia, East Asia, and Oceania/Southeast Asia/Sri Lanka",
          "Sub-Saharan Africa/Sub-Saharan Africa/Sub-Saharan Africa",
          "Sub-Saharan Africa/Eastern Sub-Saharan Africa/Sudan",
          "Latin America and Caribbean/Caribbean/Suriname",
          "High-income/Western Europe/Sweden",
          "High-income/Western Europe/Switzerland",
          "North Africa and Middle East/North Africa and Middle East/Syrian Arab Republic",
          "Southeast Asia, East Asia, and Oceania/East Asia/Taiwan (Province of China)",
          "Central Europe, Eastern Europe, and Central Asia/Central Asia/Tajikistan",
          "Southeast Asia, East Asia, and Oceania/Southeast Asia/Thailand",
          "Southeast Asia, East Asia, and Oceania/Southeast Asia/Timor-Leste",
          "Sub-Saharan Africa/Western Sub-Saharan Africa/Togo",
          "Southeast Asia, East Asia, and Oceania/Oceania/Tokelau",
          "Southeast Asia, East Asia, and Oceania/Oceania/Tonga",
          "Latin America and Caribbean/Caribbean/Trinidad and Tobago",
          "Latin America and Caribbean/Tropical Latin America/Tropical Latin America",
          "North Africa and Middle East/North Africa and Middle East/Tunisia",
          "North Africa and Middle East/North Africa and Middle East/Turkey",
          "Central Europe, Eastern Europe, and Central Asia/Central Asia/Turkmenistan",
          "Southeast Asia, East Asia, and Oceania/Oceania/Tuvalu",
          "Sub-Saharan Africa/Eastern Sub-Saharan Africa/Uganda",
          "Central Europe, Eastern Europe, and Central Asia/Eastern Europe/Ukraine",
          "North Africa and Middle East/North Africa and Middle East/United Arab Emirates",
          "High-income/Western Europe/United Kingdom",
          "Sub-Saharan Africa/Eastern Sub-Saharan Africa/United Republic of Tanzania",
          "Latin America and Caribbean/Central Latin America/United States Virgin Islands",
          "High-income/High-income North America/United States of America",
          "High-income/Southern Latin America/Uruguay",
          "Central Europe, Eastern Europe, and Central Asia/Central Asia/Uzbekistan",
          "Southeast Asia, East Asia, and Oceania/Oceania/Vanuatu",
          "Latin America and Caribbean/Central Latin America/Venezuela (Bolivarian Republic of)",
          "Southeast Asia, East Asia, and Oceania/Southeast Asia/Viet Nam",
          "High-income/Western Europe/Western Europe",
          "Sub-Saharan Africa/Western Sub-Saharan Africa/Western Sub-Saharan Africa",
          "North Africa and Middle East/North Africa and Middle East/Yemen",
          "Sub-Saharan Africa/Eastern Sub-Saharan Africa/Zambia",
          "Sub-Saharan Africa/Southern Sub-Saharan Africa/Zimbabwe",
          "Latin America and Caribbean/Andean Latin America",
          "High-income/Australasia",
          "Latin America and Caribbean/Caribbean",
          "Central Europe, Eastern Europe, and Central Asia/Central Asia",
          "Central Europe, Eastern Europe, and Central Asia/Central Europe",
          "Central Europe, Eastern Europe, and Central Asia/Central Europe, Eastern Europe, and Central Asia",
          "Latin America and Caribbean/Central Latin America",
          "Sub-Saharan Africa/Central Sub-Saharan Africa",
          "Southeast Asia, East Asia, and Oceania/East Asia",
          "Central Europe, Eastern Europe, and Central Asia/Eastern Europe",
          "Sub-Saharan Africa/Eastern Sub-Saharan Africa",
          "Global/Global",
          "High-income/High-income",
          "High-income/High-income Asia Pacific",
          "High-income/High-income North America",
          "Latin America and Caribbean/Latin America and Caribbean",
          "North Africa and Middle East/North Africa and Middle East",
          "Southeast Asia, East Asia, and Oceania/Oceania",
          "South Asia/South Asia",
          "Southeast Asia, East Asia, and Oceania/Southeast Asia",
          "Southeast Asia, East Asia, and Oceania/Southeast Asia, East Asia, and Oceania",
          "High-income/Southern Latin America",
          "Sub-Saharan Africa/Southern Sub-Saharan Africa",
          "Sub-Saharan Africa/Sub-Saharan Africa",
          "Latin America and Caribbean/Tropical Latin America",
          "High-income/Western Europe",
          "Sub-Saharan Africa/Western Sub-Saharan Africa",
          "Central Europe, Eastern Europe, and Central Asia",
          "Global",
          "High-income",
          "Latin America and Caribbean",
          "North Africa and Middle East",
          "South Asia",
          "Southeast Asia, East Asia, and Oceania",
          "Sub-Saharan Africa"
         ],
         "labels": [
          "Afghanistan",
          "Albania",
          "Algeria",
          "American Samoa",
          "Andean Latin America",
          "Andorra",
          "Angola",
          "Antigua and Barbuda",
          "Argentina",
          "Armenia",
          "Australasia",
          "Australia",
          "Austria",
          "Azerbaijan",
          "Bahamas",
          "Bahrain",
          "Bangladesh",
          "Barbados",
          "Belarus",
          "Belgium",
          "Belize",
          "Benin",
          "Bermuda",
          "Bhutan",
          "Bolivia (Plurinational State of)",
          "Bosnia and Herzegovina",
          "Botswana",
          "Brazil",
          "Brunei Darussalam",
          "Bulgaria",
          "Burkina Faso",
          "Burundi",
          "Cabo Verde",
          "Cambodia",
          "Cameroon",
          "Canada",
          "Caribbean",
          "Central African Republic",
          "Central Asia",
          "Central Europe",
          "Central Europe, Eastern Europe, and Central Asia",
          "Central Latin America",
          "Central Sub-Saharan Africa",
          "Chad",
          "Chile",
          "China",
          "Colombia",
          "Comoros",
          "Congo",
          "Cook Islands",
          "Costa Rica",
          "Croatia",
          "Cuba",
          "Cyprus",
          "Czechia",
          "Côte d'Ivoire",
          "Democratic People's Republic of Korea",
          "Democratic Republic of the Congo",
          "Denmark",
          "Djibouti",
          "Dominica",
          "Dominican Republic",
          "East Asia",
          "Eastern Europe",
          "Eastern Sub-Saharan Africa",
          "Ecuador",
          "Egypt",
          "El Salvador",
          "Equatorial Guinea",
          "Eritrea",
          "Estonia",
          "Eswatini",
          "Ethiopia",
          "Fiji",
          "Finland",
          "France",
          "Gabon",
          "Gambia",
          "Georgia",
          "Germany",
          "Ghana",
          "Global",
          "Greece",
          "Greenland",
          "Grenada",
          "Guam",
          "Guatemala",
          "Guinea",
          "Guinea-Bissau",
          "Guyana",
          "Haiti",
          "High-income",
          "High-income Asia Pacific",
          "High-income North America",
          "Honduras",
          "Hungary",
          "Iceland",
          "India",
          "Indonesia",
          "Iran (Islamic Republic of)",
          "Iraq",
          "Ireland",
          "Israel",
          "Italy",
          "Jamaica",
          "Japan",
          "Jordan",
          "Kazakhstan",
          "Kenya",
          "Kiribati",
          "Kuwait",
          "Kyrgyzstan",
          "Lao People's Democratic Republic",
          "Latin America and Caribbean",
          "Latvia",
          "Lebanon",
          "Lesotho",
          "Liberia",
          "Libya",
          "Lithuania",
          "Luxembourg",
          "Madagascar",
          "Malawi",
          "Malaysia",
          "Maldives",
          "Mali",
          "Malta",
          "Marshall Islands",
          "Mauritania",
          "Mauritius",
          "Mexico",
          "Micronesia (Federated States of)",
          "Monaco",
          "Mongolia",
          "Montenegro",
          "Morocco",
          "Mozambique",
          "Myanmar",
          "Namibia",
          "Nauru",
          "Nepal",
          "Netherlands",
          "New Zealand",
          "Nicaragua",
          "Niger",
          "Nigeria",
          "Niue",
          "North Africa and Middle East",
          "North Macedonia",
          "Northern Mariana Islands",
          "Norway",
          "Oceania",
          "Oman",
          "Pakistan",
          "Palau",
          "Palestine",
          "Panama",
          "Papua New Guinea",
          "Paraguay",
          "Peru",
          "Philippines",
          "Poland",
          "Portugal",
          "Puerto Rico",
          "Qatar",
          "Republic of Korea",
          "Republic of Moldova",
          "Romania",
          "Russian Federation",
          "Rwanda",
          "Saint Kitts and Nevis",
          "Saint Lucia",
          "Saint Vincent and the Grenadines",
          "Samoa",
          "San Marino",
          "Sao Tome and Principe",
          "Saudi Arabia",
          "Senegal",
          "Serbia",
          "Seychelles",
          "Sierra Leone",
          "Singapore",
          "Slovakia",
          "Slovenia",
          "Solomon Islands",
          "Somalia",
          "South Africa",
          "South Asia",
          "South Sudan",
          "Southeast Asia",
          "Southeast Asia, East Asia, and Oceania",
          "Southern Latin America",
          "Southern Sub-Saharan Africa",
          "Spain",
          "Sri Lanka",
          "Sub-Saharan Africa",
          "Sudan",
          "Suriname",
          "Sweden",
          "Switzerland",
          "Syrian Arab Republic",
          "Taiwan (Province of China)",
          "Tajikistan",
          "Thailand",
          "Timor-Leste",
          "Togo",
          "Tokelau",
          "Tonga",
          "Trinidad and Tobago",
          "Tropical Latin America",
          "Tunisia",
          "Turkey",
          "Turkmenistan",
          "Tuvalu",
          "Uganda",
          "Ukraine",
          "United Arab Emirates",
          "United Kingdom",
          "United Republic of Tanzania",
          "United States Virgin Islands",
          "United States of America",
          "Uruguay",
          "Uzbekistan",
          "Vanuatu",
          "Venezuela (Bolivarian Republic of)",
          "Viet Nam",
          "Western Europe",
          "Western Sub-Saharan Africa",
          "Yemen",
          "Zambia",
          "Zimbabwe",
          "Andean Latin America",
          "Australasia",
          "Caribbean",
          "Central Asia",
          "Central Europe",
          "Central Europe, Eastern Europe, and Central Asia",
          "Central Latin America",
          "Central Sub-Saharan Africa",
          "East Asia",
          "Eastern Europe",
          "Eastern Sub-Saharan Africa",
          "Global",
          "High-income",
          "High-income Asia Pacific",
          "High-income North America",
          "Latin America and Caribbean",
          "North Africa and Middle East",
          "Oceania",
          "South Asia",
          "Southeast Asia",
          "Southeast Asia, East Asia, and Oceania",
          "Southern Latin America",
          "Southern Sub-Saharan Africa",
          "Sub-Saharan Africa",
          "Tropical Latin America",
          "Western Europe",
          "Western Sub-Saharan Africa",
          "Central Europe, Eastern Europe, and Central Asia",
          "Global",
          "High-income",
          "Latin America and Caribbean",
          "North Africa and Middle East",
          "South Asia",
          "Southeast Asia, East Asia, and Oceania",
          "Sub-Saharan Africa"
         ],
         "name": "",
         "parents": [
          "South Asia/South Asia",
          "Central Europe, Eastern Europe, and Central Asia/Central Europe",
          "North Africa and Middle East/North Africa and Middle East",
          "Latin America and Caribbean/Tropical Latin America",
          "Latin America and Caribbean/Andean Latin America",
          "High-income/Western Europe",
          "Sub-Saharan Africa/Central Sub-Saharan Africa",
          "Latin America and Caribbean/Caribbean",
          "High-income/Southern Latin America",
          "Central Europe, Eastern Europe, and Central Asia/Central Asia",
          "High-income/Australasia",
          "High-income/Australasia",
          "High-income/Western Europe",
          "Central Europe, Eastern Europe, and Central Asia/Central Asia",
          "Latin America and Caribbean/Caribbean",
          "North Africa and Middle East/North Africa and Middle East",
          "South Asia/South Asia",
          "Latin America and Caribbean/Caribbean",
          "Central Europe, Eastern Europe, and Central Asia/Eastern Europe",
          "High-income/Western Europe",
          "Latin America and Caribbean/Caribbean",
          "Sub-Saharan Africa/Western Sub-Saharan Africa",
          "Latin America and Caribbean/Andean Latin America",
          "South Asia/South Asia",
          "Latin America and Caribbean/Andean Latin America",
          "Central Europe, Eastern Europe, and Central Asia/Central Europe",
          "Sub-Saharan Africa/Southern Sub-Saharan Africa",
          "Latin America and Caribbean/Tropical Latin America",
          "High-income/High-income Asia Pacific",
          "Central Europe, Eastern Europe, and Central Asia/Central Europe",
          "Sub-Saharan Africa/Western Sub-Saharan Africa",
          "Sub-Saharan Africa/Eastern Sub-Saharan Africa",
          "Sub-Saharan Africa/Western Sub-Saharan Africa",
          "Southeast Asia, East Asia, and Oceania/Southeast Asia",
          "Sub-Saharan Africa/Western Sub-Saharan Africa",
          "High-income/High-income North America",
          "Latin America and Caribbean/Caribbean",
          "Sub-Saharan Africa/Central Sub-Saharan Africa",
          "Central Europe, Eastern Europe, and Central Asia/Central Asia",
          "Central Europe, Eastern Europe, and Central Asia/Central Europe",
          "Central Europe, Eastern Europe, and Central Asia/Central Europe, Eastern Europe, and Central Asia",
          "Latin America and Caribbean/Central Latin America",
          "Sub-Saharan Africa/Central Sub-Saharan Africa",
          "Sub-Saharan Africa/Western Sub-Saharan Africa",
          "High-income/Southern Latin America",
          "Southeast Asia, East Asia, and Oceania/East Asia",
          "Latin America and Caribbean/Central Latin America",
          "Sub-Saharan Africa/Eastern Sub-Saharan Africa",
          "Sub-Saharan Africa/Central Sub-Saharan Africa",
          "Southeast Asia, East Asia, and Oceania/Oceania",
          "Latin America and Caribbean/Central Latin America",
          "Central Europe, Eastern Europe, and Central Asia/Central Europe",
          "Latin America and Caribbean/Caribbean",
          "High-income/Western Europe",
          "Central Europe, Eastern Europe, and Central Asia/Central Europe",
          "Sub-Saharan Africa/Western Sub-Saharan Africa",
          "Southeast Asia, East Asia, and Oceania/East Asia",
          "Sub-Saharan Africa/Central Sub-Saharan Africa",
          "High-income/Western Europe",
          "Sub-Saharan Africa/Eastern Sub-Saharan Africa",
          "Latin America and Caribbean/Caribbean",
          "Latin America and Caribbean/Caribbean",
          "Southeast Asia, East Asia, and Oceania/Southeast Asia, East Asia, and Oceania",
          "Central Europe, Eastern Europe, and Central Asia/Eastern Europe",
          "Sub-Saharan Africa/Eastern Sub-Saharan Africa",
          "Latin America and Caribbean/Andean Latin America",
          "North Africa and Middle East/North Africa and Middle East",
          "Latin America and Caribbean/Central Latin America",
          "Sub-Saharan Africa/Central Sub-Saharan Africa",
          "Sub-Saharan Africa/Eastern Sub-Saharan Africa",
          "Central Europe, Eastern Europe, and Central Asia/Eastern Europe",
          "Sub-Saharan Africa/Southern Sub-Saharan Africa",
          "Sub-Saharan Africa/Eastern Sub-Saharan Africa",
          "Southeast Asia, East Asia, and Oceania/Oceania",
          "High-income/Western Europe",
          "High-income/Western Europe",
          "Sub-Saharan Africa/Central Sub-Saharan Africa",
          "Sub-Saharan Africa/Western Sub-Saharan Africa",
          "Central Europe, Eastern Europe, and Central Asia/Central Asia",
          "High-income/Western Europe",
          "Sub-Saharan Africa/Western Sub-Saharan Africa",
          "Global/Global",
          "High-income/Western Europe",
          "High-income/Western Europe",
          "Latin America and Caribbean/Caribbean",
          "Southeast Asia, East Asia, and Oceania/Oceania",
          "Latin America and Caribbean/Central Latin America",
          "Sub-Saharan Africa/Western Sub-Saharan Africa",
          "Sub-Saharan Africa/Western Sub-Saharan Africa",
          "Latin America and Caribbean/Caribbean",
          "Latin America and Caribbean/Caribbean",
          "High-income/High-income",
          "High-income/High-income Asia Pacific",
          "High-income/High-income North America",
          "Latin America and Caribbean/Central Latin America",
          "Central Europe, Eastern Europe, and Central Asia/Central Europe",
          "High-income/Western Europe",
          "South Asia/South Asia",
          "Southeast Asia, East Asia, and Oceania/Southeast Asia",
          "North Africa and Middle East/North Africa and Middle East",
          "North Africa and Middle East/North Africa and Middle East",
          "High-income/Western Europe",
          "High-income/Western Europe",
          "High-income/Western Europe",
          "Latin America and Caribbean/Caribbean",
          "High-income/High-income Asia Pacific",
          "North Africa and Middle East/North Africa and Middle East",
          "Central Europe, Eastern Europe, and Central Asia/Central Asia",
          "Sub-Saharan Africa/Eastern Sub-Saharan Africa",
          "Southeast Asia, East Asia, and Oceania/Oceania",
          "North Africa and Middle East/North Africa and Middle East",
          "Central Europe, Eastern Europe, and Central Asia/Central Asia",
          "Southeast Asia, East Asia, and Oceania/Southeast Asia",
          "Latin America and Caribbean/Latin America and Caribbean",
          "Central Europe, Eastern Europe, and Central Asia/Eastern Europe",
          "North Africa and Middle East/North Africa and Middle East",
          "Sub-Saharan Africa/Southern Sub-Saharan Africa",
          "Sub-Saharan Africa/Western Sub-Saharan Africa",
          "North Africa and Middle East/North Africa and Middle East",
          "Central Europe, Eastern Europe, and Central Asia/Eastern Europe",
          "High-income/Western Europe",
          "Sub-Saharan Africa/Eastern Sub-Saharan Africa",
          "Sub-Saharan Africa/Eastern Sub-Saharan Africa",
          "Southeast Asia, East Asia, and Oceania/Southeast Asia",
          "Southeast Asia, East Asia, and Oceania/Southeast Asia",
          "Sub-Saharan Africa/Western Sub-Saharan Africa",
          "High-income/Western Europe",
          "Southeast Asia, East Asia, and Oceania/Oceania",
          "Sub-Saharan Africa/Western Sub-Saharan Africa",
          "Sub-Saharan Africa/Eastern Sub-Saharan Africa",
          "Latin America and Caribbean/Central Latin America",
          "Southeast Asia, East Asia, and Oceania/Oceania",
          "High-income/Western Europe",
          "Central Europe, Eastern Europe, and Central Asia/Central Asia",
          "Central Europe, Eastern Europe, and Central Asia/Central Europe",
          "North Africa and Middle East/North Africa and Middle East",
          "Sub-Saharan Africa/Eastern Sub-Saharan Africa",
          "Southeast Asia, East Asia, and Oceania/Southeast Asia",
          "Sub-Saharan Africa/Southern Sub-Saharan Africa",
          "Southeast Asia, East Asia, and Oceania/Oceania",
          "South Asia/South Asia",
          "High-income/Western Europe",
          "High-income/Australasia",
          "Latin America and Caribbean/Central Latin America",
          "Sub-Saharan Africa/Western Sub-Saharan Africa",
          "Sub-Saharan Africa/Western Sub-Saharan Africa",
          "Southeast Asia, East Asia, and Oceania/Oceania",
          "North Africa and Middle East/North Africa and Middle East",
          "Central Europe, Eastern Europe, and Central Asia/Central Europe",
          "Southeast Asia, East Asia, and Oceania/Oceania",
          "High-income/Western Europe",
          "Southeast Asia, East Asia, and Oceania/Southeast Asia, East Asia, and Oceania",
          "North Africa and Middle East/North Africa and Middle East",
          "South Asia/South Asia",
          "Southeast Asia, East Asia, and Oceania/Oceania",
          "North Africa and Middle East/North Africa and Middle East",
          "Latin America and Caribbean/Central Latin America",
          "Southeast Asia, East Asia, and Oceania/Oceania",
          "Latin America and Caribbean/Tropical Latin America",
          "Latin America and Caribbean/Andean Latin America",
          "Southeast Asia, East Asia, and Oceania/Southeast Asia",
          "Central Europe, Eastern Europe, and Central Asia/Central Europe",
          "High-income/Western Europe",
          "Latin America and Caribbean/Central Latin America",
          "North Africa and Middle East/North Africa and Middle East",
          "High-income/High-income Asia Pacific",
          "Central Europe, Eastern Europe, and Central Asia/Eastern Europe",
          "Central Europe, Eastern Europe, and Central Asia/Central Europe",
          "Central Europe, Eastern Europe, and Central Asia/Eastern Europe",
          "Sub-Saharan Africa/Eastern Sub-Saharan Africa",
          "Latin America and Caribbean/Central Latin America",
          "Latin America and Caribbean/Caribbean",
          "Latin America and Caribbean/Caribbean",
          "Southeast Asia, East Asia, and Oceania/Oceania",
          "High-income/Western Europe",
          "Sub-Saharan Africa/Western Sub-Saharan Africa",
          "North Africa and Middle East/North Africa and Middle East",
          "Sub-Saharan Africa/Western Sub-Saharan Africa",
          "Central Europe, Eastern Europe, and Central Asia/Central Europe",
          "Sub-Saharan Africa/Eastern Sub-Saharan Africa",
          "Sub-Saharan Africa/Western Sub-Saharan Africa",
          "High-income/High-income Asia Pacific",
          "Central Europe, Eastern Europe, and Central Asia/Central Europe",
          "Central Europe, Eastern Europe, and Central Asia/Central Europe",
          "Southeast Asia, East Asia, and Oceania/Oceania",
          "Sub-Saharan Africa/Eastern Sub-Saharan Africa",
          "Sub-Saharan Africa/Southern Sub-Saharan Africa",
          "South Asia/South Asia",
          "Sub-Saharan Africa/Eastern Sub-Saharan Africa",
          "Southeast Asia, East Asia, and Oceania/Southeast Asia, East Asia, and Oceania",
          "Southeast Asia, East Asia, and Oceania/Southeast Asia, East Asia, and Oceania",
          "High-income/Southern Latin America",
          "Sub-Saharan Africa/Southern Sub-Saharan Africa",
          "High-income/Western Europe",
          "Southeast Asia, East Asia, and Oceania/Southeast Asia",
          "Sub-Saharan Africa/Sub-Saharan Africa",
          "Sub-Saharan Africa/Eastern Sub-Saharan Africa",
          "Latin America and Caribbean/Caribbean",
          "High-income/Western Europe",
          "High-income/Western Europe",
          "North Africa and Middle East/North Africa and Middle East",
          "Southeast Asia, East Asia, and Oceania/East Asia",
          "Central Europe, Eastern Europe, and Central Asia/Central Asia",
          "Southeast Asia, East Asia, and Oceania/Southeast Asia",
          "Southeast Asia, East Asia, and Oceania/Southeast Asia",
          "Sub-Saharan Africa/Western Sub-Saharan Africa",
          "Southeast Asia, East Asia, and Oceania/Oceania",
          "Southeast Asia, East Asia, and Oceania/Oceania",
          "Latin America and Caribbean/Caribbean",
          "Latin America and Caribbean/Tropical Latin America",
          "North Africa and Middle East/North Africa and Middle East",
          "North Africa and Middle East/North Africa and Middle East",
          "Central Europe, Eastern Europe, and Central Asia/Central Asia",
          "Southeast Asia, East Asia, and Oceania/Oceania",
          "Sub-Saharan Africa/Eastern Sub-Saharan Africa",
          "Central Europe, Eastern Europe, and Central Asia/Eastern Europe",
          "North Africa and Middle East/North Africa and Middle East",
          "High-income/Western Europe",
          "Sub-Saharan Africa/Eastern Sub-Saharan Africa",
          "Latin America and Caribbean/Central Latin America",
          "High-income/High-income North America",
          "High-income/Southern Latin America",
          "Central Europe, Eastern Europe, and Central Asia/Central Asia",
          "Southeast Asia, East Asia, and Oceania/Oceania",
          "Latin America and Caribbean/Central Latin America",
          "Southeast Asia, East Asia, and Oceania/Southeast Asia",
          "High-income/Western Europe",
          "Sub-Saharan Africa/Western Sub-Saharan Africa",
          "North Africa and Middle East/North Africa and Middle East",
          "Sub-Saharan Africa/Eastern Sub-Saharan Africa",
          "Sub-Saharan Africa/Southern Sub-Saharan Africa",
          "Latin America and Caribbean",
          "High-income",
          "Latin America and Caribbean",
          "Central Europe, Eastern Europe, and Central Asia",
          "Central Europe, Eastern Europe, and Central Asia",
          "Central Europe, Eastern Europe, and Central Asia",
          "Latin America and Caribbean",
          "Sub-Saharan Africa",
          "Southeast Asia, East Asia, and Oceania",
          "Central Europe, Eastern Europe, and Central Asia",
          "Sub-Saharan Africa",
          "Global",
          "High-income",
          "High-income",
          "High-income",
          "Latin America and Caribbean",
          "North Africa and Middle East",
          "Southeast Asia, East Asia, and Oceania",
          "South Asia",
          "Southeast Asia, East Asia, and Oceania",
          "Southeast Asia, East Asia, and Oceania",
          "High-income",
          "Sub-Saharan Africa",
          "Sub-Saharan Africa",
          "Latin America and Caribbean",
          "High-income",
          "Sub-Saharan Africa",
          "",
          "",
          "",
          "",
          "",
          "",
          "",
          ""
         ],
         "type": "sunburst",
         "values": [
          90,
          90,
          90,
          90,
          90,
          90,
          90,
          90,
          90,
          90,
          90,
          90,
          90,
          90,
          90,
          90,
          90,
          90,
          90,
          90,
          90,
          90,
          90,
          90,
          90,
          90,
          90,
          90,
          90,
          90,
          90,
          90,
          90,
          90,
          90,
          90,
          90,
          90,
          90,
          90,
          90,
          90,
          90,
          90,
          90,
          90,
          90,
          90,
          90,
          90,
          90,
          90,
          90,
          90,
          90,
          90,
          90,
          90,
          90,
          90,
          90,
          90,
          90,
          90,
          90,
          90,
          90,
          90,
          90,
          90,
          90,
          90,
          90,
          90,
          90,
          90,
          90,
          90,
          90,
          90,
          90,
          90,
          90,
          90,
          90,
          90,
          90,
          90,
          90,
          90,
          90,
          90,
          90,
          90,
          90,
          90,
          90,
          90,
          90,
          90,
          90,
          90,
          90,
          90,
          90,
          90,
          90,
          90,
          90,
          90,
          90,
          90,
          90,
          90,
          90,
          90,
          90,
          90,
          90,
          90,
          90,
          90,
          90,
          90,
          90,
          90,
          90,
          90,
          90,
          90,
          90,
          90,
          90,
          90,
          90,
          90,
          90,
          90,
          90,
          90,
          90,
          90,
          90,
          90,
          90,
          90,
          90,
          180,
          90,
          90,
          90,
          90,
          90,
          90,
          90,
          90,
          90,
          90,
          90,
          90,
          90,
          90,
          90,
          90,
          90,
          90,
          90,
          90,
          90,
          90,
          90,
          90,
          90,
          90,
          90,
          90,
          90,
          90,
          90,
          90,
          90,
          90,
          90,
          90,
          90,
          90,
          90,
          180,
          90,
          90,
          90,
          90,
          90,
          90,
          90,
          90,
          90,
          90,
          90,
          90,
          90,
          90,
          90,
          90,
          90,
          90,
          90,
          90,
          90,
          90,
          90,
          90,
          90,
          90,
          90,
          90,
          90,
          90,
          90,
          90,
          90,
          90,
          90,
          90,
          90,
          90,
          90,
          90,
          90,
          90,
          90,
          450,
          270,
          1440,
          900,
          1260,
          90,
          1170,
          630,
          270,
          720,
          1710,
          90,
          90,
          450,
          270,
          90,
          1890,
          1530,
          720,
          990,
          360,
          360,
          630,
          90,
          360,
          2340,
          1800,
          2970,
          90,
          3780,
          3510,
          1890,
          720,
          3150,
          4860
         ]
        }
       ],
       "layout": {
        "legend": {
         "tracegroupgap": 0
        },
        "margin": {
         "t": 60
        },
        "template": {
         "data": {
          "bar": [
           {
            "error_x": {
             "color": "#2a3f5f"
            },
            "error_y": {
             "color": "#2a3f5f"
            },
            "marker": {
             "line": {
              "color": "#E5ECF6",
              "width": 0.5
             },
             "pattern": {
              "fillmode": "overlay",
              "size": 10,
              "solidity": 0.2
             }
            },
            "type": "bar"
           }
          ],
          "barpolar": [
           {
            "marker": {
             "line": {
              "color": "#E5ECF6",
              "width": 0.5
             },
             "pattern": {
              "fillmode": "overlay",
              "size": 10,
              "solidity": 0.2
             }
            },
            "type": "barpolar"
           }
          ],
          "carpet": [
           {
            "aaxis": {
             "endlinecolor": "#2a3f5f",
             "gridcolor": "white",
             "linecolor": "white",
             "minorgridcolor": "white",
             "startlinecolor": "#2a3f5f"
            },
            "baxis": {
             "endlinecolor": "#2a3f5f",
             "gridcolor": "white",
             "linecolor": "white",
             "minorgridcolor": "white",
             "startlinecolor": "#2a3f5f"
            },
            "type": "carpet"
           }
          ],
          "choropleth": [
           {
            "colorbar": {
             "outlinewidth": 0,
             "ticks": ""
            },
            "type": "choropleth"
           }
          ],
          "contour": [
           {
            "colorbar": {
             "outlinewidth": 0,
             "ticks": ""
            },
            "colorscale": [
             [
              0,
              "#0d0887"
             ],
             [
              0.1111111111111111,
              "#46039f"
             ],
             [
              0.2222222222222222,
              "#7201a8"
             ],
             [
              0.3333333333333333,
              "#9c179e"
             ],
             [
              0.4444444444444444,
              "#bd3786"
             ],
             [
              0.5555555555555556,
              "#d8576b"
             ],
             [
              0.6666666666666666,
              "#ed7953"
             ],
             [
              0.7777777777777778,
              "#fb9f3a"
             ],
             [
              0.8888888888888888,
              "#fdca26"
             ],
             [
              1,
              "#f0f921"
             ]
            ],
            "type": "contour"
           }
          ],
          "contourcarpet": [
           {
            "colorbar": {
             "outlinewidth": 0,
             "ticks": ""
            },
            "type": "contourcarpet"
           }
          ],
          "heatmap": [
           {
            "colorbar": {
             "outlinewidth": 0,
             "ticks": ""
            },
            "colorscale": [
             [
              0,
              "#0d0887"
             ],
             [
              0.1111111111111111,
              "#46039f"
             ],
             [
              0.2222222222222222,
              "#7201a8"
             ],
             [
              0.3333333333333333,
              "#9c179e"
             ],
             [
              0.4444444444444444,
              "#bd3786"
             ],
             [
              0.5555555555555556,
              "#d8576b"
             ],
             [
              0.6666666666666666,
              "#ed7953"
             ],
             [
              0.7777777777777778,
              "#fb9f3a"
             ],
             [
              0.8888888888888888,
              "#fdca26"
             ],
             [
              1,
              "#f0f921"
             ]
            ],
            "type": "heatmap"
           }
          ],
          "heatmapgl": [
           {
            "colorbar": {
             "outlinewidth": 0,
             "ticks": ""
            },
            "colorscale": [
             [
              0,
              "#0d0887"
             ],
             [
              0.1111111111111111,
              "#46039f"
             ],
             [
              0.2222222222222222,
              "#7201a8"
             ],
             [
              0.3333333333333333,
              "#9c179e"
             ],
             [
              0.4444444444444444,
              "#bd3786"
             ],
             [
              0.5555555555555556,
              "#d8576b"
             ],
             [
              0.6666666666666666,
              "#ed7953"
             ],
             [
              0.7777777777777778,
              "#fb9f3a"
             ],
             [
              0.8888888888888888,
              "#fdca26"
             ],
             [
              1,
              "#f0f921"
             ]
            ],
            "type": "heatmapgl"
           }
          ],
          "histogram": [
           {
            "marker": {
             "pattern": {
              "fillmode": "overlay",
              "size": 10,
              "solidity": 0.2
             }
            },
            "type": "histogram"
           }
          ],
          "histogram2d": [
           {
            "colorbar": {
             "outlinewidth": 0,
             "ticks": ""
            },
            "colorscale": [
             [
              0,
              "#0d0887"
             ],
             [
              0.1111111111111111,
              "#46039f"
             ],
             [
              0.2222222222222222,
              "#7201a8"
             ],
             [
              0.3333333333333333,
              "#9c179e"
             ],
             [
              0.4444444444444444,
              "#bd3786"
             ],
             [
              0.5555555555555556,
              "#d8576b"
             ],
             [
              0.6666666666666666,
              "#ed7953"
             ],
             [
              0.7777777777777778,
              "#fb9f3a"
             ],
             [
              0.8888888888888888,
              "#fdca26"
             ],
             [
              1,
              "#f0f921"
             ]
            ],
            "type": "histogram2d"
           }
          ],
          "histogram2dcontour": [
           {
            "colorbar": {
             "outlinewidth": 0,
             "ticks": ""
            },
            "colorscale": [
             [
              0,
              "#0d0887"
             ],
             [
              0.1111111111111111,
              "#46039f"
             ],
             [
              0.2222222222222222,
              "#7201a8"
             ],
             [
              0.3333333333333333,
              "#9c179e"
             ],
             [
              0.4444444444444444,
              "#bd3786"
             ],
             [
              0.5555555555555556,
              "#d8576b"
             ],
             [
              0.6666666666666666,
              "#ed7953"
             ],
             [
              0.7777777777777778,
              "#fb9f3a"
             ],
             [
              0.8888888888888888,
              "#fdca26"
             ],
             [
              1,
              "#f0f921"
             ]
            ],
            "type": "histogram2dcontour"
           }
          ],
          "mesh3d": [
           {
            "colorbar": {
             "outlinewidth": 0,
             "ticks": ""
            },
            "type": "mesh3d"
           }
          ],
          "parcoords": [
           {
            "line": {
             "colorbar": {
              "outlinewidth": 0,
              "ticks": ""
             }
            },
            "type": "parcoords"
           }
          ],
          "pie": [
           {
            "automargin": true,
            "type": "pie"
           }
          ],
          "scatter": [
           {
            "fillpattern": {
             "fillmode": "overlay",
             "size": 10,
             "solidity": 0.2
            },
            "type": "scatter"
           }
          ],
          "scatter3d": [
           {
            "line": {
             "colorbar": {
              "outlinewidth": 0,
              "ticks": ""
             }
            },
            "marker": {
             "colorbar": {
              "outlinewidth": 0,
              "ticks": ""
             }
            },
            "type": "scatter3d"
           }
          ],
          "scattercarpet": [
           {
            "marker": {
             "colorbar": {
              "outlinewidth": 0,
              "ticks": ""
             }
            },
            "type": "scattercarpet"
           }
          ],
          "scattergeo": [
           {
            "marker": {
             "colorbar": {
              "outlinewidth": 0,
              "ticks": ""
             }
            },
            "type": "scattergeo"
           }
          ],
          "scattergl": [
           {
            "marker": {
             "colorbar": {
              "outlinewidth": 0,
              "ticks": ""
             }
            },
            "type": "scattergl"
           }
          ],
          "scattermapbox": [
           {
            "marker": {
             "colorbar": {
              "outlinewidth": 0,
              "ticks": ""
             }
            },
            "type": "scattermapbox"
           }
          ],
          "scatterpolar": [
           {
            "marker": {
             "colorbar": {
              "outlinewidth": 0,
              "ticks": ""
             }
            },
            "type": "scatterpolar"
           }
          ],
          "scatterpolargl": [
           {
            "marker": {
             "colorbar": {
              "outlinewidth": 0,
              "ticks": ""
             }
            },
            "type": "scatterpolargl"
           }
          ],
          "scatterternary": [
           {
            "marker": {
             "colorbar": {
              "outlinewidth": 0,
              "ticks": ""
             }
            },
            "type": "scatterternary"
           }
          ],
          "surface": [
           {
            "colorbar": {
             "outlinewidth": 0,
             "ticks": ""
            },
            "colorscale": [
             [
              0,
              "#0d0887"
             ],
             [
              0.1111111111111111,
              "#46039f"
             ],
             [
              0.2222222222222222,
              "#7201a8"
             ],
             [
              0.3333333333333333,
              "#9c179e"
             ],
             [
              0.4444444444444444,
              "#bd3786"
             ],
             [
              0.5555555555555556,
              "#d8576b"
             ],
             [
              0.6666666666666666,
              "#ed7953"
             ],
             [
              0.7777777777777778,
              "#fb9f3a"
             ],
             [
              0.8888888888888888,
              "#fdca26"
             ],
             [
              1,
              "#f0f921"
             ]
            ],
            "type": "surface"
           }
          ],
          "table": [
           {
            "cells": {
             "fill": {
              "color": "#EBF0F8"
             },
             "line": {
              "color": "white"
             }
            },
            "header": {
             "fill": {
              "color": "#C8D4E3"
             },
             "line": {
              "color": "white"
             }
            },
            "type": "table"
           }
          ]
         },
         "layout": {
          "annotationdefaults": {
           "arrowcolor": "#2a3f5f",
           "arrowhead": 0,
           "arrowwidth": 1
          },
          "autotypenumbers": "strict",
          "coloraxis": {
           "colorbar": {
            "outlinewidth": 0,
            "ticks": ""
           }
          },
          "colorscale": {
           "diverging": [
            [
             0,
             "#8e0152"
            ],
            [
             0.1,
             "#c51b7d"
            ],
            [
             0.2,
             "#de77ae"
            ],
            [
             0.3,
             "#f1b6da"
            ],
            [
             0.4,
             "#fde0ef"
            ],
            [
             0.5,
             "#f7f7f7"
            ],
            [
             0.6,
             "#e6f5d0"
            ],
            [
             0.7,
             "#b8e186"
            ],
            [
             0.8,
             "#7fbc41"
            ],
            [
             0.9,
             "#4d9221"
            ],
            [
             1,
             "#276419"
            ]
           ],
           "sequential": [
            [
             0,
             "#0d0887"
            ],
            [
             0.1111111111111111,
             "#46039f"
            ],
            [
             0.2222222222222222,
             "#7201a8"
            ],
            [
             0.3333333333333333,
             "#9c179e"
            ],
            [
             0.4444444444444444,
             "#bd3786"
            ],
            [
             0.5555555555555556,
             "#d8576b"
            ],
            [
             0.6666666666666666,
             "#ed7953"
            ],
            [
             0.7777777777777778,
             "#fb9f3a"
            ],
            [
             0.8888888888888888,
             "#fdca26"
            ],
            [
             1,
             "#f0f921"
            ]
           ],
           "sequentialminus": [
            [
             0,
             "#0d0887"
            ],
            [
             0.1111111111111111,
             "#46039f"
            ],
            [
             0.2222222222222222,
             "#7201a8"
            ],
            [
             0.3333333333333333,
             "#9c179e"
            ],
            [
             0.4444444444444444,
             "#bd3786"
            ],
            [
             0.5555555555555556,
             "#d8576b"
            ],
            [
             0.6666666666666666,
             "#ed7953"
            ],
            [
             0.7777777777777778,
             "#fb9f3a"
            ],
            [
             0.8888888888888888,
             "#fdca26"
            ],
            [
             1,
             "#f0f921"
            ]
           ]
          },
          "colorway": [
           "#636efa",
           "#EF553B",
           "#00cc96",
           "#ab63fa",
           "#FFA15A",
           "#19d3f3",
           "#FF6692",
           "#B6E880",
           "#FF97FF",
           "#FECB52"
          ],
          "font": {
           "color": "#2a3f5f"
          },
          "geo": {
           "bgcolor": "white",
           "lakecolor": "white",
           "landcolor": "#E5ECF6",
           "showlakes": true,
           "showland": true,
           "subunitcolor": "white"
          },
          "hoverlabel": {
           "align": "left"
          },
          "hovermode": "closest",
          "mapbox": {
           "style": "light"
          },
          "paper_bgcolor": "white",
          "plot_bgcolor": "#E5ECF6",
          "polar": {
           "angularaxis": {
            "gridcolor": "white",
            "linecolor": "white",
            "ticks": ""
           },
           "bgcolor": "#E5ECF6",
           "radialaxis": {
            "gridcolor": "white",
            "linecolor": "white",
            "ticks": ""
           }
          },
          "scene": {
           "xaxis": {
            "backgroundcolor": "#E5ECF6",
            "gridcolor": "white",
            "gridwidth": 2,
            "linecolor": "white",
            "showbackground": true,
            "ticks": "",
            "zerolinecolor": "white"
           },
           "yaxis": {
            "backgroundcolor": "#E5ECF6",
            "gridcolor": "white",
            "gridwidth": 2,
            "linecolor": "white",
            "showbackground": true,
            "ticks": "",
            "zerolinecolor": "white"
           },
           "zaxis": {
            "backgroundcolor": "#E5ECF6",
            "gridcolor": "white",
            "gridwidth": 2,
            "linecolor": "white",
            "showbackground": true,
            "ticks": "",
            "zerolinecolor": "white"
           }
          },
          "shapedefaults": {
           "line": {
            "color": "#2a3f5f"
           }
          },
          "ternary": {
           "aaxis": {
            "gridcolor": "white",
            "linecolor": "white",
            "ticks": ""
           },
           "baxis": {
            "gridcolor": "white",
            "linecolor": "white",
            "ticks": ""
           },
           "bgcolor": "#E5ECF6",
           "caxis": {
            "gridcolor": "white",
            "linecolor": "white",
            "ticks": ""
           }
          },
          "title": {
           "x": 0.05
          },
          "xaxis": {
           "automargin": true,
           "gridcolor": "white",
           "linecolor": "white",
           "ticks": "",
           "title": {
            "standoff": 15
           },
           "zerolinecolor": "white",
           "zerolinewidth": 2
          },
          "yaxis": {
           "automargin": true,
           "gridcolor": "white",
           "linecolor": "white",
           "ticks": "",
           "title": {
            "standoff": 15
           },
           "zerolinecolor": "white",
           "zerolinewidth": 2
          }
         }
        }
       }
      }
     },
     "metadata": {},
     "output_type": "display_data"
    }
   ],
   "source": [
    "fig = pl.sunburst(data_frame = df_smoking, path=['super_region', 'sub_super_region', 'location_name'])\n",
    "fig.show()"
   ]
  },
  {
   "cell_type": "code",
   "execution_count": null,
   "metadata": {},
   "outputs": [],
   "source": []
  }
 ],
 "metadata": {
  "kernelspec": {
   "display_name": "modern_nlp",
   "language": "python",
   "name": "python3"
  },
  "language_info": {
   "codemirror_mode": {
    "name": "ipython",
    "version": 3
   },
   "file_extension": ".py",
   "mimetype": "text/x-python",
   "name": "python",
   "nbconvert_exporter": "python",
   "pygments_lexer": "ipython3",
   "version": "3.11.3"
  },
  "orig_nbformat": 4
 },
 "nbformat": 4,
 "nbformat_minor": 2
}
